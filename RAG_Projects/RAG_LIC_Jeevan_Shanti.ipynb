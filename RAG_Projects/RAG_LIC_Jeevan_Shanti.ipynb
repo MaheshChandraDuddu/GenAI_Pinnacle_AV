{
  "cells": [
    {
      "cell_type": "code",
      "execution_count": 1,
      "metadata": {
        "colab": {
          "base_uri": "https://localhost:8080/"
        },
        "id": "D33IYxVdh-sG",
        "outputId": "bfd26b99-1a22-48bc-d7e2-29dfb380f4d7"
      },
      "outputs": [
        {
          "output_type": "stream",
          "name": "stdout",
          "text": [
            "Requirement already satisfied: llama-index in /usr/local/lib/python3.10/dist-packages (0.10.59)\n",
            "Requirement already satisfied: llama-parse in /usr/local/lib/python3.10/dist-packages (0.4.9)\n",
            "Requirement already satisfied: llama-index-embeddings-huggingface in /usr/local/lib/python3.10/dist-packages (0.2.2)\n",
            "Requirement already satisfied: llama-index-llms-huggingface in /usr/local/lib/python3.10/dist-packages (0.2.5)\n",
            "Requirement already satisfied: llama-index-agent-openai<0.3.0,>=0.1.4 in /usr/local/lib/python3.10/dist-packages (from llama-index) (0.2.9)\n",
            "Requirement already satisfied: llama-index-cli<0.2.0,>=0.1.2 in /usr/local/lib/python3.10/dist-packages (from llama-index) (0.1.13)\n",
            "Requirement already satisfied: llama-index-core==0.10.59 in /usr/local/lib/python3.10/dist-packages (from llama-index) (0.10.59)\n",
            "Requirement already satisfied: llama-index-embeddings-openai<0.2.0,>=0.1.5 in /usr/local/lib/python3.10/dist-packages (from llama-index) (0.1.11)\n",
            "Requirement already satisfied: llama-index-indices-managed-llama-cloud>=0.2.0 in /usr/local/lib/python3.10/dist-packages (from llama-index) (0.2.7)\n",
            "Requirement already satisfied: llama-index-legacy<0.10.0,>=0.9.48 in /usr/local/lib/python3.10/dist-packages (from llama-index) (0.9.48)\n",
            "Requirement already satisfied: llama-index-llms-openai<0.2.0,>=0.1.27 in /usr/local/lib/python3.10/dist-packages (from llama-index) (0.1.27)\n",
            "Requirement already satisfied: llama-index-multi-modal-llms-openai<0.2.0,>=0.1.3 in /usr/local/lib/python3.10/dist-packages (from llama-index) (0.1.8)\n",
            "Requirement already satisfied: llama-index-program-openai<0.2.0,>=0.1.3 in /usr/local/lib/python3.10/dist-packages (from llama-index) (0.1.7)\n",
            "Requirement already satisfied: llama-index-question-gen-openai<0.2.0,>=0.1.2 in /usr/local/lib/python3.10/dist-packages (from llama-index) (0.1.3)\n",
            "Requirement already satisfied: llama-index-readers-file<0.2.0,>=0.1.4 in /usr/local/lib/python3.10/dist-packages (from llama-index) (0.1.32)\n",
            "Requirement already satisfied: llama-index-readers-llama-parse>=0.1.2 in /usr/local/lib/python3.10/dist-packages (from llama-index) (0.1.6)\n",
            "Requirement already satisfied: PyYAML>=6.0.1 in /usr/local/lib/python3.10/dist-packages (from llama-index-core==0.10.59->llama-index) (6.0.1)\n",
            "Requirement already satisfied: SQLAlchemy>=1.4.49 in /usr/local/lib/python3.10/dist-packages (from SQLAlchemy[asyncio]>=1.4.49->llama-index-core==0.10.59->llama-index) (2.0.31)\n",
            "Requirement already satisfied: aiohttp<4.0.0,>=3.8.6 in /usr/local/lib/python3.10/dist-packages (from llama-index-core==0.10.59->llama-index) (3.9.5)\n",
            "Requirement already satisfied: dataclasses-json in /usr/local/lib/python3.10/dist-packages (from llama-index-core==0.10.59->llama-index) (0.6.7)\n",
            "Requirement already satisfied: deprecated>=1.2.9.3 in /usr/local/lib/python3.10/dist-packages (from llama-index-core==0.10.59->llama-index) (1.2.14)\n",
            "Requirement already satisfied: dirtyjson<2.0.0,>=1.0.8 in /usr/local/lib/python3.10/dist-packages (from llama-index-core==0.10.59->llama-index) (1.0.8)\n",
            "Requirement already satisfied: fsspec>=2023.5.0 in /usr/local/lib/python3.10/dist-packages (from llama-index-core==0.10.59->llama-index) (2024.6.1)\n",
            "Requirement already satisfied: httpx in /usr/local/lib/python3.10/dist-packages (from llama-index-core==0.10.59->llama-index) (0.27.0)\n",
            "Requirement already satisfied: nest-asyncio<2.0.0,>=1.5.8 in /usr/local/lib/python3.10/dist-packages (from llama-index-core==0.10.59->llama-index) (1.6.0)\n",
            "Requirement already satisfied: networkx>=3.0 in /usr/local/lib/python3.10/dist-packages (from llama-index-core==0.10.59->llama-index) (3.3)\n",
            "Requirement already satisfied: nltk<4.0.0,>=3.8.1 in /usr/local/lib/python3.10/dist-packages (from llama-index-core==0.10.59->llama-index) (3.8.1)\n",
            "Requirement already satisfied: numpy<2.0.0 in /usr/local/lib/python3.10/dist-packages (from llama-index-core==0.10.59->llama-index) (1.26.4)\n",
            "Requirement already satisfied: openai>=1.1.0 in /usr/local/lib/python3.10/dist-packages (from llama-index-core==0.10.59->llama-index) (1.38.0)\n",
            "Requirement already satisfied: pandas in /usr/local/lib/python3.10/dist-packages (from llama-index-core==0.10.59->llama-index) (2.1.4)\n",
            "Requirement already satisfied: pillow>=9.0.0 in /usr/local/lib/python3.10/dist-packages (from llama-index-core==0.10.59->llama-index) (9.4.0)\n",
            "Requirement already satisfied: requests>=2.31.0 in /usr/local/lib/python3.10/dist-packages (from llama-index-core==0.10.59->llama-index) (2.31.0)\n",
            "Requirement already satisfied: tenacity!=8.4.0,<9.0.0,>=8.2.0 in /usr/local/lib/python3.10/dist-packages (from llama-index-core==0.10.59->llama-index) (8.5.0)\n",
            "Requirement already satisfied: tiktoken>=0.3.3 in /usr/local/lib/python3.10/dist-packages (from llama-index-core==0.10.59->llama-index) (0.7.0)\n",
            "Requirement already satisfied: tqdm<5.0.0,>=4.66.1 in /usr/local/lib/python3.10/dist-packages (from llama-index-core==0.10.59->llama-index) (4.66.4)\n",
            "Requirement already satisfied: typing-extensions>=4.5.0 in /usr/local/lib/python3.10/dist-packages (from llama-index-core==0.10.59->llama-index) (4.12.2)\n",
            "Requirement already satisfied: typing-inspect>=0.8.0 in /usr/local/lib/python3.10/dist-packages (from llama-index-core==0.10.59->llama-index) (0.9.0)\n",
            "Requirement already satisfied: wrapt in /usr/local/lib/python3.10/dist-packages (from llama-index-core==0.10.59->llama-index) (1.16.0)\n",
            "Requirement already satisfied: huggingface-hub>=0.19.0 in /usr/local/lib/python3.10/dist-packages (from huggingface-hub[inference]>=0.19.0->llama-index-embeddings-huggingface) (0.23.5)\n",
            "Requirement already satisfied: sentence-transformers>=2.6.1 in /usr/local/lib/python3.10/dist-packages (from llama-index-embeddings-huggingface) (3.0.1)\n",
            "Requirement already satisfied: text-generation<0.8.0,>=0.7.0 in /usr/local/lib/python3.10/dist-packages (from llama-index-llms-huggingface) (0.7.0)\n",
            "Requirement already satisfied: torch<3.0.0,>=2.1.2 in /usr/local/lib/python3.10/dist-packages (from llama-index-llms-huggingface) (2.3.1+cu121)\n",
            "Requirement already satisfied: transformers<5.0.0,>=4.37.0 in /usr/local/lib/python3.10/dist-packages (from transformers[torch]<5.0.0,>=4.37.0->llama-index-llms-huggingface) (4.42.4)\n",
            "Requirement already satisfied: filelock in /usr/local/lib/python3.10/dist-packages (from huggingface-hub>=0.19.0->huggingface-hub[inference]>=0.19.0->llama-index-embeddings-huggingface) (3.15.4)\n",
            "Requirement already satisfied: packaging>=20.9 in /usr/local/lib/python3.10/dist-packages (from huggingface-hub>=0.19.0->huggingface-hub[inference]>=0.19.0->llama-index-embeddings-huggingface) (24.1)\n",
            "Requirement already satisfied: minijinja>=1.0 in /usr/local/lib/python3.10/dist-packages (from huggingface-hub[inference]>=0.19.0->llama-index-embeddings-huggingface) (2.0.1)\n",
            "Requirement already satisfied: llama-cloud>=0.0.11 in /usr/local/lib/python3.10/dist-packages (from llama-index-indices-managed-llama-cloud>=0.2.0->llama-index) (0.0.11)\n",
            "Requirement already satisfied: beautifulsoup4<5.0.0,>=4.12.3 in /usr/local/lib/python3.10/dist-packages (from llama-index-readers-file<0.2.0,>=0.1.4->llama-index) (4.12.3)\n",
            "Requirement already satisfied: pypdf<5.0.0,>=4.0.1 in /usr/local/lib/python3.10/dist-packages (from llama-index-readers-file<0.2.0,>=0.1.4->llama-index) (4.3.1)\n",
            "Requirement already satisfied: striprtf<0.0.27,>=0.0.26 in /usr/local/lib/python3.10/dist-packages (from llama-index-readers-file<0.2.0,>=0.1.4->llama-index) (0.0.26)\n",
            "Requirement already satisfied: scikit-learn in /usr/local/lib/python3.10/dist-packages (from sentence-transformers>=2.6.1->llama-index-embeddings-huggingface) (1.3.2)\n",
            "Requirement already satisfied: scipy in /usr/local/lib/python3.10/dist-packages (from sentence-transformers>=2.6.1->llama-index-embeddings-huggingface) (1.13.1)\n",
            "Requirement already satisfied: pydantic<3,>2 in /usr/local/lib/python3.10/dist-packages (from text-generation<0.8.0,>=0.7.0->llama-index-llms-huggingface) (2.8.2)\n",
            "Requirement already satisfied: sympy in /usr/local/lib/python3.10/dist-packages (from torch<3.0.0,>=2.1.2->llama-index-llms-huggingface) (1.13.1)\n",
            "Requirement already satisfied: jinja2 in /usr/local/lib/python3.10/dist-packages (from torch<3.0.0,>=2.1.2->llama-index-llms-huggingface) (3.1.4)\n",
            "Requirement already satisfied: nvidia-cuda-nvrtc-cu12==12.1.105 in /usr/local/lib/python3.10/dist-packages (from torch<3.0.0,>=2.1.2->llama-index-llms-huggingface) (12.1.105)\n",
            "Requirement already satisfied: nvidia-cuda-runtime-cu12==12.1.105 in /usr/local/lib/python3.10/dist-packages (from torch<3.0.0,>=2.1.2->llama-index-llms-huggingface) (12.1.105)\n",
            "Requirement already satisfied: nvidia-cuda-cupti-cu12==12.1.105 in /usr/local/lib/python3.10/dist-packages (from torch<3.0.0,>=2.1.2->llama-index-llms-huggingface) (12.1.105)\n",
            "Requirement already satisfied: nvidia-cudnn-cu12==8.9.2.26 in /usr/local/lib/python3.10/dist-packages (from torch<3.0.0,>=2.1.2->llama-index-llms-huggingface) (8.9.2.26)\n",
            "Requirement already satisfied: nvidia-cublas-cu12==12.1.3.1 in /usr/local/lib/python3.10/dist-packages (from torch<3.0.0,>=2.1.2->llama-index-llms-huggingface) (12.1.3.1)\n",
            "Requirement already satisfied: nvidia-cufft-cu12==11.0.2.54 in /usr/local/lib/python3.10/dist-packages (from torch<3.0.0,>=2.1.2->llama-index-llms-huggingface) (11.0.2.54)\n",
            "Requirement already satisfied: nvidia-curand-cu12==10.3.2.106 in /usr/local/lib/python3.10/dist-packages (from torch<3.0.0,>=2.1.2->llama-index-llms-huggingface) (10.3.2.106)\n",
            "Requirement already satisfied: nvidia-cusolver-cu12==11.4.5.107 in /usr/local/lib/python3.10/dist-packages (from torch<3.0.0,>=2.1.2->llama-index-llms-huggingface) (11.4.5.107)\n",
            "Requirement already satisfied: nvidia-cusparse-cu12==12.1.0.106 in /usr/local/lib/python3.10/dist-packages (from torch<3.0.0,>=2.1.2->llama-index-llms-huggingface) (12.1.0.106)\n",
            "Requirement already satisfied: nvidia-nccl-cu12==2.20.5 in /usr/local/lib/python3.10/dist-packages (from torch<3.0.0,>=2.1.2->llama-index-llms-huggingface) (2.20.5)\n",
            "Requirement already satisfied: nvidia-nvtx-cu12==12.1.105 in /usr/local/lib/python3.10/dist-packages (from torch<3.0.0,>=2.1.2->llama-index-llms-huggingface) (12.1.105)\n",
            "Requirement already satisfied: triton==2.3.1 in /usr/local/lib/python3.10/dist-packages (from torch<3.0.0,>=2.1.2->llama-index-llms-huggingface) (2.3.1)\n",
            "Requirement already satisfied: nvidia-nvjitlink-cu12 in /usr/local/lib/python3.10/dist-packages (from nvidia-cusolver-cu12==11.4.5.107->torch<3.0.0,>=2.1.2->llama-index-llms-huggingface) (12.6.20)\n",
            "Requirement already satisfied: regex!=2019.12.17 in /usr/local/lib/python3.10/dist-packages (from transformers<5.0.0,>=4.37.0->transformers[torch]<5.0.0,>=4.37.0->llama-index-llms-huggingface) (2024.5.15)\n",
            "Requirement already satisfied: safetensors>=0.4.1 in /usr/local/lib/python3.10/dist-packages (from transformers<5.0.0,>=4.37.0->transformers[torch]<5.0.0,>=4.37.0->llama-index-llms-huggingface) (0.4.3)\n",
            "Requirement already satisfied: tokenizers<0.20,>=0.19 in /usr/local/lib/python3.10/dist-packages (from transformers<5.0.0,>=4.37.0->transformers[torch]<5.0.0,>=4.37.0->llama-index-llms-huggingface) (0.19.1)\n",
            "Requirement already satisfied: accelerate>=0.21.0 in /usr/local/lib/python3.10/dist-packages (from transformers[torch]<5.0.0,>=4.37.0->llama-index-llms-huggingface) (0.32.1)\n",
            "Requirement already satisfied: psutil in /usr/local/lib/python3.10/dist-packages (from accelerate>=0.21.0->transformers[torch]<5.0.0,>=4.37.0->llama-index-llms-huggingface) (5.9.5)\n",
            "Requirement already satisfied: aiosignal>=1.1.2 in /usr/local/lib/python3.10/dist-packages (from aiohttp<4.0.0,>=3.8.6->llama-index-core==0.10.59->llama-index) (1.3.1)\n",
            "Requirement already satisfied: attrs>=17.3.0 in /usr/local/lib/python3.10/dist-packages (from aiohttp<4.0.0,>=3.8.6->llama-index-core==0.10.59->llama-index) (23.2.0)\n",
            "Requirement already satisfied: frozenlist>=1.1.1 in /usr/local/lib/python3.10/dist-packages (from aiohttp<4.0.0,>=3.8.6->llama-index-core==0.10.59->llama-index) (1.4.1)\n",
            "Requirement already satisfied: multidict<7.0,>=4.5 in /usr/local/lib/python3.10/dist-packages (from aiohttp<4.0.0,>=3.8.6->llama-index-core==0.10.59->llama-index) (6.0.5)\n",
            "Requirement already satisfied: yarl<2.0,>=1.0 in /usr/local/lib/python3.10/dist-packages (from aiohttp<4.0.0,>=3.8.6->llama-index-core==0.10.59->llama-index) (1.9.4)\n",
            "Requirement already satisfied: async-timeout<5.0,>=4.0 in /usr/local/lib/python3.10/dist-packages (from aiohttp<4.0.0,>=3.8.6->llama-index-core==0.10.59->llama-index) (4.0.3)\n",
            "Requirement already satisfied: soupsieve>1.2 in /usr/local/lib/python3.10/dist-packages (from beautifulsoup4<5.0.0,>=4.12.3->llama-index-readers-file<0.2.0,>=0.1.4->llama-index) (2.5)\n",
            "Requirement already satisfied: anyio in /usr/local/lib/python3.10/dist-packages (from httpx->llama-index-core==0.10.59->llama-index) (3.7.1)\n",
            "Requirement already satisfied: certifi in /usr/local/lib/python3.10/dist-packages (from httpx->llama-index-core==0.10.59->llama-index) (2024.7.4)\n",
            "Requirement already satisfied: httpcore==1.* in /usr/local/lib/python3.10/dist-packages (from httpx->llama-index-core==0.10.59->llama-index) (1.0.5)\n",
            "Requirement already satisfied: idna in /usr/local/lib/python3.10/dist-packages (from httpx->llama-index-core==0.10.59->llama-index) (3.7)\n",
            "Requirement already satisfied: sniffio in /usr/local/lib/python3.10/dist-packages (from httpx->llama-index-core==0.10.59->llama-index) (1.3.1)\n",
            "Requirement already satisfied: h11<0.15,>=0.13 in /usr/local/lib/python3.10/dist-packages (from httpcore==1.*->httpx->llama-index-core==0.10.59->llama-index) (0.14.0)\n",
            "Requirement already satisfied: click in /usr/local/lib/python3.10/dist-packages (from nltk<4.0.0,>=3.8.1->llama-index-core==0.10.59->llama-index) (8.1.7)\n",
            "Requirement already satisfied: joblib in /usr/local/lib/python3.10/dist-packages (from nltk<4.0.0,>=3.8.1->llama-index-core==0.10.59->llama-index) (1.4.2)\n",
            "Requirement already satisfied: distro<2,>=1.7.0 in /usr/lib/python3/dist-packages (from openai>=1.1.0->llama-index-core==0.10.59->llama-index) (1.7.0)\n",
            "Requirement already satisfied: annotated-types>=0.4.0 in /usr/local/lib/python3.10/dist-packages (from pydantic<3,>2->text-generation<0.8.0,>=0.7.0->llama-index-llms-huggingface) (0.7.0)\n",
            "Requirement already satisfied: pydantic-core==2.20.1 in /usr/local/lib/python3.10/dist-packages (from pydantic<3,>2->text-generation<0.8.0,>=0.7.0->llama-index-llms-huggingface) (2.20.1)\n",
            "Requirement already satisfied: charset-normalizer<4,>=2 in /usr/local/lib/python3.10/dist-packages (from requests>=2.31.0->llama-index-core==0.10.59->llama-index) (3.3.2)\n",
            "Requirement already satisfied: urllib3<3,>=1.21.1 in /usr/local/lib/python3.10/dist-packages (from requests>=2.31.0->llama-index-core==0.10.59->llama-index) (2.0.7)\n",
            "Requirement already satisfied: greenlet!=0.4.17 in /usr/local/lib/python3.10/dist-packages (from SQLAlchemy>=1.4.49->SQLAlchemy[asyncio]>=1.4.49->llama-index-core==0.10.59->llama-index) (3.0.3)\n",
            "Requirement already satisfied: mypy-extensions>=0.3.0 in /usr/local/lib/python3.10/dist-packages (from typing-inspect>=0.8.0->llama-index-core==0.10.59->llama-index) (1.0.0)\n",
            "Requirement already satisfied: marshmallow<4.0.0,>=3.18.0 in /usr/local/lib/python3.10/dist-packages (from dataclasses-json->llama-index-core==0.10.59->llama-index) (3.21.3)\n",
            "Requirement already satisfied: MarkupSafe>=2.0 in /usr/local/lib/python3.10/dist-packages (from jinja2->torch<3.0.0,>=2.1.2->llama-index-llms-huggingface) (2.1.5)\n",
            "Requirement already satisfied: python-dateutil>=2.8.2 in /usr/local/lib/python3.10/dist-packages (from pandas->llama-index-core==0.10.59->llama-index) (2.8.2)\n",
            "Requirement already satisfied: pytz>=2020.1 in /usr/local/lib/python3.10/dist-packages (from pandas->llama-index-core==0.10.59->llama-index) (2024.1)\n",
            "Requirement already satisfied: tzdata>=2022.1 in /usr/local/lib/python3.10/dist-packages (from pandas->llama-index-core==0.10.59->llama-index) (2024.1)\n",
            "Requirement already satisfied: threadpoolctl>=2.0.0 in /usr/local/lib/python3.10/dist-packages (from scikit-learn->sentence-transformers>=2.6.1->llama-index-embeddings-huggingface) (3.5.0)\n",
            "Requirement already satisfied: mpmath<1.4,>=1.1.0 in /usr/local/lib/python3.10/dist-packages (from sympy->torch<3.0.0,>=2.1.2->llama-index-llms-huggingface) (1.3.0)\n",
            "Requirement already satisfied: exceptiongroup in /usr/local/lib/python3.10/dist-packages (from anyio->httpx->llama-index-core==0.10.59->llama-index) (1.2.2)\n",
            "Requirement already satisfied: six>=1.5 in /usr/local/lib/python3.10/dist-packages (from python-dateutil>=2.8.2->pandas->llama-index-core==0.10.59->llama-index) (1.16.0)\n"
          ]
        }
      ],
      "source": [
        "!pip install llama-index llama-parse llama-index-embeddings-huggingface llama-index-llms-huggingface"
      ]
    },
    {
      "cell_type": "code",
      "execution_count": 2,
      "metadata": {
        "id": "HxiuFBqxmU9i"
      },
      "outputs": [],
      "source": [
        "# Read PDF using llama-parse\n",
        "from llama_parse import LlamaParse\n",
        "import nest_asyncio\n",
        "import os\n",
        "from google.colab import userdata\n",
        "\n",
        "os.environ[\"LLAMA_CLOUD_API_KEY\"] = userdata.get('LLAMA_CLOUD') #LLAMA CLOUD API\n",
        "os.environ[\"OPENAI_API_KEY\"] = userdata.get('OPENAI_API_KEY_1') #OPENAI_API_KEY_1\n",
        "os.environ[\"HF_TOKEN\"] = userdata.get('HF_TOKEN')\n",
        "nest_asyncio.apply()\n",
        "pdf_file_name = \"/content/Final+Policy+document_LICs+New+Jeevan+Shanti_V05_logo.pdf\""
      ]
    },
    {
      "cell_type": "markdown",
      "metadata": {
        "id": "zTqjd9mvi8qk"
      },
      "source": [
        "# Download LIC JEEVAN SHANTI PDF"
      ]
    },
    {
      "cell_type": "code",
      "execution_count": 3,
      "metadata": {
        "colab": {
          "base_uri": "https://localhost:8080/"
        },
        "id": "MkP-ysf4i8F0",
        "outputId": "96cb9fb8-ba19-4218-ff54-dfec1f7c5d65"
      },
      "outputs": [
        {
          "output_type": "stream",
          "name": "stdout",
          "text": [
            "--2024-08-03 18:23:10--  https://licindia.in/documents/20121/62876/Final+Policy+document_LICs+New+Jeevan+Shanti_V05_logo.pdf\n",
            "Resolving licindia.in (licindia.in)... 64.185.181.238\n",
            "Connecting to licindia.in (licindia.in)|64.185.181.238|:443... connected.\n",
            "HTTP request sent, awaiting response... 200 OK\n",
            "Length: 588928 (575K) [application/pdf]\n",
            "Saving to: ‘Final+Policy+document_LICs+New+Jeevan+Shanti_V05_logo.pdf.2’\n",
            "\n",
            "\r          Final+Pol   0%[                    ]       0  --.-KB/s               \rFinal+Policy+docume 100%[===================>] 575.12K  --.-KB/s    in 0.007s  \n",
            "\n",
            "2024-08-03 18:23:10 (81.3 MB/s) - ‘Final+Policy+document_LICs+New+Jeevan+Shanti_V05_logo.pdf.2’ saved [588928/588928]\n",
            "\n"
          ]
        }
      ],
      "source": [
        "!wget https://licindia.in/documents/20121/62876/Final+Policy+document_LICs+New+Jeevan+Shanti_V05_logo.pdf"
      ]
    },
    {
      "cell_type": "markdown",
      "metadata": {
        "id": "vakGsMHSmwiY"
      },
      "source": [
        "# Read PDF"
      ]
    },
    {
      "cell_type": "code",
      "execution_count": 4,
      "metadata": {
        "colab": {
          "base_uri": "https://localhost:8080/"
        },
        "id": "xf---8JimTXj",
        "outputId": "402d9e7e-d7d1-43fb-9ebf-f8b068971884"
      },
      "outputs": [
        {
          "output_type": "stream",
          "name": "stdout",
          "text": [
            "Started parsing the file under job_id 733115c2-fcf7-426d-b851-beda3c73d8bc\n",
            "# LIFE INSURANCE CORPORATION OF INDIA\n",
            "\n",
            "(Established by the Life Insurance Corporation Act, 1956)\n",
            "\n",
            "Registration Number: 512\n",
            "\n",
            "# LIC’S NEW JEEVAN SHANTI (UIN: 512N338V05)\n",
            "\n",
            "(A Non-Linked, Non-Participating, Individual, Single Premium, Deferred Annuity Plan)\n",
            "\n",
            "# PART – A\n",
            "\n",
            "Ref: NB (Address and e-mail id of Branch Office):\n",
            "\n",
            "Space for Name and Address of Policyholder\n",
            "Space for Address and e-mail id of Branch Office\n",
            "\n",
            "Dear Policyholder,\n",
            "\n",
            "Date: _______________\n",
            "\n",
            "Re: Your Policy No. _______________\n",
            "\n",
            "We have pleasure in forwarding herewith the above policy document comprising of Part A to Part G which please find in order.\n",
            "\n",
            "We would also like to draw your kind attention to the information mentioned in the Schedule of the Policy and the benefits available under the Policy.\n",
            "\n",
            "Some of our Plans have certain options available under them. It is important that the options, if any, available under this Plan and mentioned in the Policy Document are noted carefully as it will be helpful to you, in case you dec\n"
          ]
        }
      ],
      "source": [
        "documents = LlamaParse(result_type=\"markdown\").load_data(pdf_file_name)\n",
        "print(documents[0].text[:1000])"
      ]
    },
    {
      "cell_type": "markdown",
      "metadata": {
        "id": "DqXVWy2kolAn"
      },
      "source": [
        "# Embedding models"
      ]
    },
    {
      "cell_type": "code",
      "execution_count": 5,
      "metadata": {
        "colab": {
          "base_uri": "https://localhost:8080/"
        },
        "id": "YXKyerLVoYRB",
        "outputId": "867b7701-2ecb-48c5-e556-8622cf9115ab"
      },
      "outputs": [
        {
          "output_type": "stream",
          "name": "stderr",
          "text": [
            "Some weights of BertModel were not initialized from the model checkpoint at jinaai/jina-embeddings-v2-base-en and are newly initialized: ['embeddings.position_embeddings.weight', 'encoder.layer.0.intermediate.dense.bias', 'encoder.layer.0.intermediate.dense.weight', 'encoder.layer.0.output.LayerNorm.bias', 'encoder.layer.0.output.LayerNorm.weight', 'encoder.layer.0.output.dense.bias', 'encoder.layer.0.output.dense.weight', 'encoder.layer.1.intermediate.dense.bias', 'encoder.layer.1.intermediate.dense.weight', 'encoder.layer.1.output.LayerNorm.bias', 'encoder.layer.1.output.LayerNorm.weight', 'encoder.layer.1.output.dense.bias', 'encoder.layer.1.output.dense.weight', 'encoder.layer.10.intermediate.dense.bias', 'encoder.layer.10.intermediate.dense.weight', 'encoder.layer.10.output.LayerNorm.bias', 'encoder.layer.10.output.LayerNorm.weight', 'encoder.layer.10.output.dense.bias', 'encoder.layer.10.output.dense.weight', 'encoder.layer.11.intermediate.dense.bias', 'encoder.layer.11.intermediate.dense.weight', 'encoder.layer.11.output.LayerNorm.bias', 'encoder.layer.11.output.LayerNorm.weight', 'encoder.layer.11.output.dense.bias', 'encoder.layer.11.output.dense.weight', 'encoder.layer.2.intermediate.dense.bias', 'encoder.layer.2.intermediate.dense.weight', 'encoder.layer.2.output.LayerNorm.bias', 'encoder.layer.2.output.LayerNorm.weight', 'encoder.layer.2.output.dense.bias', 'encoder.layer.2.output.dense.weight', 'encoder.layer.3.intermediate.dense.bias', 'encoder.layer.3.intermediate.dense.weight', 'encoder.layer.3.output.LayerNorm.bias', 'encoder.layer.3.output.LayerNorm.weight', 'encoder.layer.3.output.dense.bias', 'encoder.layer.3.output.dense.weight', 'encoder.layer.4.intermediate.dense.bias', 'encoder.layer.4.intermediate.dense.weight', 'encoder.layer.4.output.LayerNorm.bias', 'encoder.layer.4.output.LayerNorm.weight', 'encoder.layer.4.output.dense.bias', 'encoder.layer.4.output.dense.weight', 'encoder.layer.5.intermediate.dense.bias', 'encoder.layer.5.intermediate.dense.weight', 'encoder.layer.5.output.LayerNorm.bias', 'encoder.layer.5.output.LayerNorm.weight', 'encoder.layer.5.output.dense.bias', 'encoder.layer.5.output.dense.weight', 'encoder.layer.6.intermediate.dense.bias', 'encoder.layer.6.intermediate.dense.weight', 'encoder.layer.6.output.LayerNorm.bias', 'encoder.layer.6.output.LayerNorm.weight', 'encoder.layer.6.output.dense.bias', 'encoder.layer.6.output.dense.weight', 'encoder.layer.7.intermediate.dense.bias', 'encoder.layer.7.intermediate.dense.weight', 'encoder.layer.7.output.LayerNorm.bias', 'encoder.layer.7.output.LayerNorm.weight', 'encoder.layer.7.output.dense.bias', 'encoder.layer.7.output.dense.weight', 'encoder.layer.8.intermediate.dense.bias', 'encoder.layer.8.intermediate.dense.weight', 'encoder.layer.8.output.LayerNorm.bias', 'encoder.layer.8.output.LayerNorm.weight', 'encoder.layer.8.output.dense.bias', 'encoder.layer.8.output.dense.weight', 'encoder.layer.9.intermediate.dense.bias', 'encoder.layer.9.intermediate.dense.weight', 'encoder.layer.9.output.LayerNorm.bias', 'encoder.layer.9.output.LayerNorm.weight', 'encoder.layer.9.output.dense.bias', 'encoder.layer.9.output.dense.weight']\n",
            "You should probably TRAIN this model on a down-stream task to be able to use it for predictions and inference.\n"
          ]
        }
      ],
      "source": [
        "#Open-AI embeddings\n",
        "from llama_index.embeddings.openai import OpenAIEmbedding\n",
        "openai_emb = OpenAIEmbedding()\n",
        "\n",
        "#bge embedding from Huggingface\n",
        "from llama_index.embeddings.huggingface import HuggingFaceEmbedding\n",
        "bge_emb = HuggingFaceEmbedding(model_name=\"BAAI/bge-small-en-v1.5\")\n",
        "\n",
        "#jinaai embeddings from huggingface\n",
        "jinaai_emb = HuggingFaceEmbedding(model_name=\"jinaai/jina-embeddings-v2-base-en\")"
      ]
    },
    {
      "cell_type": "markdown",
      "metadata": {
        "id": "q5G7bwiQwY38"
      },
      "source": [
        "# LLMs\n"
      ]
    },
    {
      "cell_type": "code",
      "execution_count": 6,
      "metadata": {
        "colab": {
          "base_uri": "https://localhost:8080/",
          "height": 190,
          "referenced_widgets": [
            "238a7a34464e43298a546ba6b2449f2f",
            "fe41aacc481649f7aa3da4e07c7fde33",
            "2ff657b39fbd4346a02d6c68a8e5544f",
            "978bdbdca3b04ed9b1c58f3d18f2e108",
            "ebab60624f6042c89bfef25f7cf7a0fd",
            "5e9fe785502f4356a6392ad581768300",
            "605f38645302438caa28334145960cc8",
            "b93c0b42fcbb4c578db1802585319018",
            "277d5fc60e3d4803b02e7540baf3eda0",
            "463c680412f5490fa1ae8818ef1986b1",
            "b4bdd03e17d144acaf2e0970cad65d24"
          ]
        },
        "id": "nQtzlX9OwbOT",
        "outputId": "ae8e6bd3-d58f-4dd3-9cfd-94f563a8c0b8"
      },
      "outputs": [
        {
          "output_type": "stream",
          "name": "stderr",
          "text": [
            "/usr/local/lib/python3.10/dist-packages/pydantic/_internal/_fields.py:161: UserWarning: Field \"model_id\" has conflict with protected namespace \"model_\".\n",
            "\n",
            "You may be able to resolve this warning by setting `model_config['protected_namespaces'] = ()`.\n",
            "  warnings.warn(\n"
          ]
        },
        {
          "output_type": "display_data",
          "data": {
            "text/plain": [
              "Loading checkpoint shards:   0%|          | 0/2 [00:00<?, ?it/s]"
            ],
            "application/vnd.jupyter.widget-view+json": {
              "version_major": 2,
              "version_minor": 0,
              "model_id": "238a7a34464e43298a546ba6b2449f2f"
            }
          },
          "metadata": {}
        },
        {
          "output_type": "stream",
          "name": "stderr",
          "text": [
            "WARNING:accelerate.big_modeling:Some parameters are on the meta device device because they were offloaded to the disk and cpu.\n",
            "Special tokens have been added in the vocabulary, make sure the associated word embeddings are fine-tuned or trained.\n",
            "WARNING:llama_index.llms.huggingface.base:The model `mistralai/Mistral-7B-Instruct-v0.1` and tokenizer `StabilityAI/stablelm-tuned-alpha-3b` are different, please ensure that they are compatible.\n"
          ]
        }
      ],
      "source": [
        "from llama_index.llms.openai import OpenAI\n",
        "gpt_4_llm = OpenAI(model=\"gpt-4\", temperature=0.1)\n",
        "\n",
        "from llama_index.llms.huggingface import HuggingFaceLLM\n",
        "mistral_llm = HuggingFaceLLM(model_name=\"mistralai/Mistral-7B-Instruct-v0.1\")"
      ]
    },
    {
      "cell_type": "markdown",
      "metadata": {
        "id": "p7s0wou2m1D2"
      },
      "source": [
        "# Vector Store Index"
      ]
    },
    {
      "cell_type": "code",
      "execution_count": 7,
      "metadata": {
        "colab": {
          "base_uri": "https://localhost:8080/"
        },
        "id": "5CdG7_aEoECD",
        "outputId": "58d671de-285e-4201-e605-71078fc7eeef"
      },
      "outputs": [
        {
          "output_type": "stream",
          "name": "stdout",
          "text": [
            "The Free Look period is a span of 30 days from the date of receipt of the policy document, either in electronic or physical form, whichever is earlier. During this period, if the policyholder is not satisfied with the terms and conditions of the policy, they may return the policy to the Corporation stating their objections. Upon receipt, the Corporation will cancel the policy and return the premium paid after deducting charges for stamp duty and any annuity paid. This condition is only applicable in the case of a new purchase of a Deferred Annuity plan. If the purchase is from an existing fund, this condition does not apply.\n"
          ]
        }
      ],
      "source": [
        "from llama_index.core import VectorStoreIndex\n",
        "index = VectorStoreIndex.from_documents(documents, embed_model=openai_emb, llm=gpt_4_llm)\n",
        "openai_gpt4_engine = index.as_query_engine(llm=gpt_4_llm)\n",
        "print(openai_gpt4_engine.query(\"What is Free-look period?\").response)\n",
        "# index_bge = VectorStoreIndex.from_documents(documents, embed_model=bge_emb)\n",
        "# index_jinaai = VectorStoreIndex.from_documents(documents, embed_model=jinaai_emb)"
      ]
    },
    {
      "cell_type": "code",
      "execution_count": 8,
      "metadata": {
        "colab": {
          "base_uri": "https://localhost:8080/"
        },
        "id": "IwjoByCiCCri",
        "outputId": "183f3d74-3f7a-4183-87ef-b06c48f900fb"
      },
      "outputs": [
        {
          "output_type": "stream",
          "name": "stdout",
          "text": [
            "The Free Look period is a span of 30 days from the date of receipt of the electronic or physical mode of the Policy Document, whichever comes first, by the Policyholder. During this period, if the Policyholder is not satisfied with the Terms and Conditions of the policy, they may return the policy to the Corporation stating their objections. Upon receipt, the Corporation will cancel the Policy and return the Premium paid after deducting the charges for stamp duty and annuity paid, if any. This condition of Free Look period is only applicable in case of new purchase of Deferred Annuity plan. If the purchase is from the existing fund, this condition is not applicable.\n"
          ]
        }
      ],
      "source": [
        "index = VectorStoreIndex.from_documents(documents, embed_model=bge_emb, llm=gpt_4_llm)\n",
        "bge_gpt4_engine = index.as_query_engine(llm=gpt_4_llm)\n",
        "print(bge_gpt4_engine.query(\"What is Free-look period?\"))"
      ]
    },
    {
      "cell_type": "code",
      "execution_count": 9,
      "metadata": {
        "colab": {
          "base_uri": "https://localhost:8080/"
        },
        "id": "2z6ZOKIqL7xL",
        "outputId": "06ef7b22-070b-43d6-cac4-c707cb15329a"
      },
      "outputs": [
        {
          "output_type": "stream",
          "name": "stderr",
          "text": [
            "BertSdpaSelfAttention is used but `torch.nn.functional.scaled_dot_product_attention` does not support non-absolute `position_embedding_type` or `output_attentions=True` or `head_mask`. Falling back to the manual attention implementation, but specifying the manual implementation will be required from Transformers version v5.0.0 onwards. This warning can be removed using the argument `attn_implementation=\"eager\"` when loading the model.\n"
          ]
        },
        {
          "output_type": "stream",
          "name": "stdout",
          "text": [
            "The Free Look Period is a span of 30 days from the date of receipt of the policy document, either in electronic or physical mode, whichever is earlier. During this period, the policyholder can review the terms and conditions of the policy. If the policyholder disagrees with any of the terms and conditions, they have the option to return the policy.\n"
          ]
        }
      ],
      "source": [
        "index = VectorStoreIndex.from_documents(documents, embed_model=jinaai_emb, llm=gpt_4_llm)\n",
        "jin_gpt4_engine = index.as_query_engine(llm=gpt_4_llm)\n",
        "print(jin_gpt4_engine.query(\"What is Free-look period?\"))"
      ]
    },
    {
      "cell_type": "code",
      "execution_count": 10,
      "metadata": {
        "colab": {
          "base_uri": "https://localhost:8080/"
        },
        "id": "uz10MSIFL2QW",
        "outputId": "6427bcf4-afcb-4f30-9443-043d72565dbb"
      },
      "outputs": [
        {
          "output_type": "stream",
          "name": "stdout",
          "text": [
            "The Free Look period allows the Policyholder to return the policy to the Corporation within 30 days from the date of receiving the electronic or physical mode of the Policy Document if they are not satisfied with the Terms and Conditions of the policy. Upon returning the policy during this period, the Corporation will cancel the policy and return the Premium paid after deducting charges for stamp duty and annuity paid, if any.\n"
          ]
        }
      ],
      "source": [
        "index = VectorStoreIndex.from_documents(documents, embed_model=openai_emb, llm=mistral_llm)\n",
        "openai_mistral_engine = index.as_query_engine()\n",
        "print(openai_mistral_engine.query(\"What is Free-look period?\"))"
      ]
    },
    {
      "cell_type": "code",
      "execution_count": 11,
      "metadata": {
        "colab": {
          "base_uri": "https://localhost:8080/"
        },
        "id": "aMZ3H3eeGGxr",
        "outputId": "6732cf7a-11c0-4a93-d7ec-ce5300a73083"
      },
      "outputs": [
        {
          "output_type": "stream",
          "name": "stdout",
          "text": [
            "The Free Look period allows the Policyholder to return the policy to the Corporation within 30 days from the date of receiving the electronic or physical mode of the Policy Document if they are not satisfied with the Terms and Conditions of the policy. Upon returning the policy during this period, the Corporation will cancel the policy and return the Premium paid after deducting the charges for stamp duty and annuity paid, if any.\n"
          ]
        }
      ],
      "source": [
        "index = VectorStoreIndex.from_documents(documents, embed_model=bge_emb, llm=mistral_llm)\n",
        "bge_mistral_engine = index.as_query_engine()\n",
        "print(bge_mistral_engine.query(\"What is Free-look period?\"))"
      ]
    },
    {
      "cell_type": "code",
      "execution_count": 12,
      "metadata": {
        "colab": {
          "base_uri": "https://localhost:8080/"
        },
        "id": "lwZXtyW2Lp0K",
        "outputId": "aa64d000-0282-46af-a8c9-89f2c56f40fb"
      },
      "outputs": [
        {
          "output_type": "stream",
          "name": "stdout",
          "text": [
            "The Free Look Period is a period of 30 days from the date of receipt of the electronic or physical mode of the Policy Document, whichever is earlier, by the Policyholder to review the terms and conditions of the policy. During this period, if the Policyholder disagrees with any of the terms and conditions, they have the option to return the policy as detailed in the policy document.\n"
          ]
        }
      ],
      "source": [
        "index = VectorStoreIndex.from_documents(documents, embed_model=jinaai_emb, llm=mistral_llm)\n",
        "jin_mistral_engine = index.as_query_engine()\n",
        "print(jin_mistral_engine.query(\"What is Free-look period?\"))"
      ]
    },
    {
      "cell_type": "code",
      "execution_count": 13,
      "metadata": {
        "id": "ZPzCEbWPgxxL"
      },
      "outputs": [],
      "source": [
        "\n",
        "from llama_index.core.llama_pack import download_llama_pack\n",
        "\n",
        "RagEvaluatorPack = download_llama_pack(\n",
        "  \"RagEvaluatorPack\", \"./rag_evaluator_pack\"\n",
        ")"
      ]
    },
    {
      "cell_type": "code",
      "execution_count": 14,
      "metadata": {
        "colab": {
          "base_uri": "https://localhost:8080/",
          "height": 486,
          "referenced_widgets": [
            "f080ddb9359b4c809084e703ff43e57c",
            "19576c4a6d9e4f4b891a17bc31d6561b",
            "ba0b4a747d854d63be5a2a8e763bc397",
            "01022b81a6a64483873d10c5a2c2577f",
            "9c4b4a5ba7d04f369bcfaa9e27ab4e7a",
            "e574de6060284145af354583cb1cb0ef",
            "5b705bc6c3e34667b948e5aed52ec626",
            "165e67ae110a4d59b223af55e08d8c15",
            "7fcce76faa144ab6aaf504edce62275b",
            "7204e845c55e46c1a57c9b7bcf35e969",
            "a55c0e701ccd43d1a6445ef61cecd63d"
          ]
        },
        "id": "cMXCq9CWm4-Y",
        "outputId": "d58737e9-8354-483e-8af8-7757290dd5ce"
      },
      "outputs": [
        {
          "output_type": "stream",
          "name": "stderr",
          "text": [
            "<ipython-input-14-18270d0f20a1>:4: DeprecationWarning: Call to deprecated class method from_defaults. (ServiceContext is deprecated, please use `llama_index.settings.Settings` instead.) -- Deprecated since version 0.10.0.\n",
            "  service_context_gpt4 = ServiceContext.from_defaults(llm=gpt_4_llm)\n"
          ]
        },
        {
          "output_type": "display_data",
          "data": {
            "text/plain": [
              "Parsing nodes:   0%|          | 0/21 [00:00<?, ?it/s]"
            ],
            "application/vnd.jupyter.widget-view+json": {
              "version_major": 2,
              "version_minor": 0,
              "model_id": "f080ddb9359b4c809084e703ff43e57c"
            }
          },
          "metadata": {}
        },
        {
          "output_type": "stream",
          "name": "stderr",
          "text": [
            "100%|██████████| 21/21 [00:20<00:00,  1.02it/s]\n",
            "100%|██████████| 2/2 [00:05<00:00,  2.56s/it]\n",
            "100%|██████████| 2/2 [00:08<00:00,  4.26s/it]\n",
            "100%|██████████| 2/2 [00:07<00:00,  3.60s/it]\n",
            "100%|██████████| 2/2 [00:09<00:00,  4.83s/it]\n",
            "100%|██████████| 2/2 [00:04<00:00,  2.13s/it]\n",
            "100%|██████████| 2/2 [00:03<00:00,  1.81s/it]\n",
            "100%|██████████| 2/2 [00:12<00:00,  6.06s/it]\n",
            "100%|██████████| 2/2 [00:06<00:00,  3.31s/it]\n",
            "100%|██████████| 2/2 [00:09<00:00,  4.56s/it]\n",
            "100%|██████████| 2/2 [00:12<00:00,  6.21s/it]\n",
            "100%|██████████| 2/2 [00:06<00:00,  3.41s/it]\n",
            "100%|██████████| 2/2 [00:09<00:00,  4.70s/it]\n",
            "100%|██████████| 2/2 [00:08<00:00,  4.02s/it]\n",
            "100%|██████████| 2/2 [00:20<00:00, 10.27s/it]\n",
            "100%|██████████| 2/2 [00:01<00:00,  1.32it/s]\n",
            "100%|██████████| 2/2 [00:15<00:00,  7.92s/it]\n",
            "100%|██████████| 2/2 [00:03<00:00,  1.75s/it]\n",
            "100%|██████████| 2/2 [00:10<00:00,  5.06s/it]\n",
            "100%|██████████| 2/2 [00:03<00:00,  1.93s/it]\n",
            "100%|██████████| 2/2 [00:07<00:00,  3.95s/it]\n",
            "100%|██████████| 2/2 [00:03<00:00,  1.53s/it]\n"
          ]
        }
      ],
      "source": [
        "from llama_index.core import ServiceContext\n",
        "from llama_index.core.llama_dataset.generator import RagDatasetGenerator\n",
        "\n",
        "service_context_gpt4 = ServiceContext.from_defaults(llm=gpt_4_llm)\n",
        "\n",
        "dataset_generator = RagDatasetGenerator.from_documents(\n",
        "    documents,\n",
        "    service_context=service_context_gpt4,\n",
        "    num_questions_per_chunk=2,\n",
        "    show_progress=True,\n",
        ")\n",
        "\n",
        "eval_dataset = dataset_generator.generate_dataset_from_nodes()"
      ]
    },
    {
      "cell_type": "code",
      "execution_count": 15,
      "metadata": {
        "id": "xJ2R6oVonGQA",
        "colab": {
          "base_uri": "https://localhost:8080/"
        },
        "outputId": "7155c972-0194-42fc-c89c-286d9b5e0c96"
      },
      "outputs": [
        {
          "output_type": "stream",
          "name": "stderr",
          "text": [
            "Batch processing of predictions: 100%|██████████| 10/10 [00:12<00:00,  1.23s/it]\n",
            "Batch processing of predictions: 100%|██████████| 10/10 [00:14<00:00,  1.49s/it]\n",
            "Batch processing of predictions: 100%|██████████| 10/10 [00:17<00:00,  1.74s/it]\n",
            "Batch processing of predictions: 100%|██████████| 10/10 [00:16<00:00,  1.64s/it]\n",
            "Batch processing of predictions: 100%|██████████| 2/2 [00:04<00:00,  2.36s/it]\n",
            "Batch processing of evaluations:  93%|█████████▎| 21/22.5 [02:01<00:08,  5.77s/it]\n",
            "Batch processing of predictions: 100%|██████████| 10/10 [00:14<00:00,  1.41s/it]\n",
            "Batch processing of predictions: 100%|██████████| 10/10 [00:14<00:00,  1.50s/it]\n",
            "Batch processing of predictions: 100%|██████████| 10/10 [00:17<00:00,  1.73s/it]\n",
            "Batch processing of predictions: 100%|██████████| 10/10 [00:13<00:00,  1.35s/it]\n",
            "Batch processing of predictions: 100%|██████████| 2/2 [00:04<00:00,  2.39s/it]\n",
            "Batch processing of evaluations:  93%|█████████▎| 21/22.5 [01:56<00:08,  5.56s/it]\n",
            "Batch processing of predictions: 100%|██████████| 10/10 [00:15<00:00,  1.55s/it]\n",
            "Batch processing of predictions: 100%|██████████| 10/10 [00:04<00:00,  2.01it/s]\n",
            "Batch processing of predictions: 100%|██████████| 10/10 [00:11<00:00,  1.18s/it]\n",
            "Batch processing of predictions: 100%|██████████| 10/10 [00:14<00:00,  1.46s/it]\n",
            "Batch processing of predictions: 100%|██████████| 2/2 [00:06<00:00,  3.38s/it]\n",
            "Batch processing of evaluations:  93%|█████████▎| 21/22.5 [01:53<00:08,  5.42s/it]\n",
            "Batch processing of predictions: 100%|██████████| 10/10 [00:04<00:00,  2.18it/s]\n",
            "Batch processing of predictions: 100%|██████████| 10/10 [00:04<00:00,  2.32it/s]\n",
            "Batch processing of predictions: 100%|██████████| 10/10 [00:04<00:00,  2.47it/s]\n",
            "Batch processing of predictions: 100%|██████████| 10/10 [00:04<00:00,  2.14it/s]\n",
            "Batch processing of predictions: 100%|██████████| 2/2 [00:02<00:00,  1.41s/it]\n",
            "Batch processing of evaluations:  93%|█████████▎| 21/22.5 [02:06<00:09,  6.03s/it]\n",
            "Batch processing of predictions: 100%|██████████| 10/10 [00:04<00:00,  2.30it/s]\n",
            "Batch processing of predictions: 100%|██████████| 10/10 [00:03<00:00,  2.89it/s]\n",
            "Batch processing of predictions: 100%|██████████| 10/10 [00:03<00:00,  3.16it/s]\n",
            "Batch processing of predictions: 100%|██████████| 10/10 [00:03<00:00,  2.57it/s]\n",
            "Batch processing of predictions: 100%|██████████| 2/2 [00:02<00:00,  1.09s/it]\n",
            "Batch processing of evaluations:  93%|█████████▎| 21/22.5 [02:03<00:08,  5.88s/it]\n",
            "Batch processing of predictions: 100%|██████████| 10/10 [00:04<00:00,  2.05it/s]\n",
            "Batch processing of predictions: 100%|██████████| 10/10 [00:04<00:00,  2.22it/s]\n",
            "Batch processing of predictions: 100%|██████████| 10/10 [00:03<00:00,  2.71it/s]\n",
            "Batch processing of predictions: 100%|██████████| 10/10 [00:03<00:00,  2.88it/s]\n",
            "Batch processing of predictions: 100%|██████████| 2/2 [00:02<00:00,  1.06s/it]\n",
            "Batch processing of evaluations:  93%|█████████▎| 21/22.5 [02:05<00:08,  5.97s/it]\n"
          ]
        }
      ],
      "source": [
        "from llama_index.packs.rag_evaluator import RagEvaluatorPack\n",
        "import pandas as pd\n",
        "async def evaluate(query_engine, qe_st):\n",
        "  rag_evaluator_pack = RagEvaluatorPack(\n",
        "      rag_dataset=eval_dataset,\n",
        "      query_engine=query_engine\n",
        "  )\n",
        "\n",
        "  benchmark_df = await rag_evaluator_pack.arun(\n",
        "      batch_size=10,  # batches the number of openai api calls to make\n",
        "      sleep_time_in_seconds=1,  # seconds to sleep before making an api call\n",
        "  )\n",
        "  return benchmark_df\n",
        "openai_gpt4_engine_metrics = await evaluate(openai_gpt4_engine, \"OpenAI GPT-4\")\n",
        "bge_gpt4_engine_metrics = await evaluate(bge_gpt4_engine, \"BGE GPT-4\")\n",
        "jin_gpt4_engine_metrics = await evaluate(jin_gpt4_engine, \"JINA AI GPT-4\")\n",
        "openai_mistral_engine_metrics = await evaluate(openai_mistral_engine, \"OpenAI Mistral\")\n",
        "bge_mistral_engine_metrics = await evaluate(bge_mistral_engine, \"BGE Mistral\")\n",
        "jin_mistral_engine_metrics = await evaluate(jin_mistral_engine, \"JINA AI Mistral\")"
      ]
    },
    {
      "cell_type": "code",
      "execution_count": 19,
      "metadata": {
        "id": "5CbEOamtuQ-5",
        "colab": {
          "base_uri": "https://localhost:8080/",
          "height": 206
        },
        "outputId": "f1bd82de-1fb1-4706-bb63-839e39359005"
      },
      "outputs": [
        {
          "output_type": "execute_result",
          "data": {
            "text/plain": [
              "                               OpenAI GPT-4  BGE GPT-4  JINA AI GPT-4  \\\n",
              "metrics                                                                 \n",
              "mean_correctness_score             4.488095   4.392857       2.071429   \n",
              "mean_relevancy_score               0.880952   0.833333       0.357143   \n",
              "mean_faithfulness_score            0.952381   0.928571       0.714286   \n",
              "mean_context_similarity_score      0.961225   0.959758       0.883087   \n",
              "\n",
              "                               OpenAI Mistral  BGE Mistral  JINA AI Mistral  \n",
              "metrics                                                                      \n",
              "mean_correctness_score               4.345238     4.238095         3.166667  \n",
              "mean_relevancy_score                 0.952381     0.880952         0.523810  \n",
              "mean_faithfulness_score              0.976190     0.952381         0.761905  \n",
              "mean_context_similarity_score        0.961217     0.959767         0.883096  "
            ],
            "text/html": [
              "\n",
              "  <div id=\"df-ef1b8647-13a2-4465-aae9-339530af6c3b\" class=\"colab-df-container\">\n",
              "    <div>\n",
              "<style scoped>\n",
              "    .dataframe tbody tr th:only-of-type {\n",
              "        vertical-align: middle;\n",
              "    }\n",
              "\n",
              "    .dataframe tbody tr th {\n",
              "        vertical-align: top;\n",
              "    }\n",
              "\n",
              "    .dataframe thead th {\n",
              "        text-align: right;\n",
              "    }\n",
              "</style>\n",
              "<table border=\"1\" class=\"dataframe\">\n",
              "  <thead>\n",
              "    <tr style=\"text-align: right;\">\n",
              "      <th></th>\n",
              "      <th>OpenAI GPT-4</th>\n",
              "      <th>BGE GPT-4</th>\n",
              "      <th>JINA AI GPT-4</th>\n",
              "      <th>OpenAI Mistral</th>\n",
              "      <th>BGE Mistral</th>\n",
              "      <th>JINA AI Mistral</th>\n",
              "    </tr>\n",
              "    <tr>\n",
              "      <th>metrics</th>\n",
              "      <th></th>\n",
              "      <th></th>\n",
              "      <th></th>\n",
              "      <th></th>\n",
              "      <th></th>\n",
              "      <th></th>\n",
              "    </tr>\n",
              "  </thead>\n",
              "  <tbody>\n",
              "    <tr>\n",
              "      <th>mean_correctness_score</th>\n",
              "      <td>4.488095</td>\n",
              "      <td>4.392857</td>\n",
              "      <td>2.071429</td>\n",
              "      <td>4.345238</td>\n",
              "      <td>4.238095</td>\n",
              "      <td>3.166667</td>\n",
              "    </tr>\n",
              "    <tr>\n",
              "      <th>mean_relevancy_score</th>\n",
              "      <td>0.880952</td>\n",
              "      <td>0.833333</td>\n",
              "      <td>0.357143</td>\n",
              "      <td>0.952381</td>\n",
              "      <td>0.880952</td>\n",
              "      <td>0.523810</td>\n",
              "    </tr>\n",
              "    <tr>\n",
              "      <th>mean_faithfulness_score</th>\n",
              "      <td>0.952381</td>\n",
              "      <td>0.928571</td>\n",
              "      <td>0.714286</td>\n",
              "      <td>0.976190</td>\n",
              "      <td>0.952381</td>\n",
              "      <td>0.761905</td>\n",
              "    </tr>\n",
              "    <tr>\n",
              "      <th>mean_context_similarity_score</th>\n",
              "      <td>0.961225</td>\n",
              "      <td>0.959758</td>\n",
              "      <td>0.883087</td>\n",
              "      <td>0.961217</td>\n",
              "      <td>0.959767</td>\n",
              "      <td>0.883096</td>\n",
              "    </tr>\n",
              "  </tbody>\n",
              "</table>\n",
              "</div>\n",
              "    <div class=\"colab-df-buttons\">\n",
              "\n",
              "  <div class=\"colab-df-container\">\n",
              "    <button class=\"colab-df-convert\" onclick=\"convertToInteractive('df-ef1b8647-13a2-4465-aae9-339530af6c3b')\"\n",
              "            title=\"Convert this dataframe to an interactive table.\"\n",
              "            style=\"display:none;\">\n",
              "\n",
              "  <svg xmlns=\"http://www.w3.org/2000/svg\" height=\"24px\" viewBox=\"0 -960 960 960\">\n",
              "    <path d=\"M120-120v-720h720v720H120Zm60-500h600v-160H180v160Zm220 220h160v-160H400v160Zm0 220h160v-160H400v160ZM180-400h160v-160H180v160Zm440 0h160v-160H620v160ZM180-180h160v-160H180v160Zm440 0h160v-160H620v160Z\"/>\n",
              "  </svg>\n",
              "    </button>\n",
              "\n",
              "  <style>\n",
              "    .colab-df-container {\n",
              "      display:flex;\n",
              "      gap: 12px;\n",
              "    }\n",
              "\n",
              "    .colab-df-convert {\n",
              "      background-color: #E8F0FE;\n",
              "      border: none;\n",
              "      border-radius: 50%;\n",
              "      cursor: pointer;\n",
              "      display: none;\n",
              "      fill: #1967D2;\n",
              "      height: 32px;\n",
              "      padding: 0 0 0 0;\n",
              "      width: 32px;\n",
              "    }\n",
              "\n",
              "    .colab-df-convert:hover {\n",
              "      background-color: #E2EBFA;\n",
              "      box-shadow: 0px 1px 2px rgba(60, 64, 67, 0.3), 0px 1px 3px 1px rgba(60, 64, 67, 0.15);\n",
              "      fill: #174EA6;\n",
              "    }\n",
              "\n",
              "    .colab-df-buttons div {\n",
              "      margin-bottom: 4px;\n",
              "    }\n",
              "\n",
              "    [theme=dark] .colab-df-convert {\n",
              "      background-color: #3B4455;\n",
              "      fill: #D2E3FC;\n",
              "    }\n",
              "\n",
              "    [theme=dark] .colab-df-convert:hover {\n",
              "      background-color: #434B5C;\n",
              "      box-shadow: 0px 1px 3px 1px rgba(0, 0, 0, 0.15);\n",
              "      filter: drop-shadow(0px 1px 2px rgba(0, 0, 0, 0.3));\n",
              "      fill: #FFFFFF;\n",
              "    }\n",
              "  </style>\n",
              "\n",
              "    <script>\n",
              "      const buttonEl =\n",
              "        document.querySelector('#df-ef1b8647-13a2-4465-aae9-339530af6c3b button.colab-df-convert');\n",
              "      buttonEl.style.display =\n",
              "        google.colab.kernel.accessAllowed ? 'block' : 'none';\n",
              "\n",
              "      async function convertToInteractive(key) {\n",
              "        const element = document.querySelector('#df-ef1b8647-13a2-4465-aae9-339530af6c3b');\n",
              "        const dataTable =\n",
              "          await google.colab.kernel.invokeFunction('convertToInteractive',\n",
              "                                                    [key], {});\n",
              "        if (!dataTable) return;\n",
              "\n",
              "        const docLinkHtml = 'Like what you see? Visit the ' +\n",
              "          '<a target=\"_blank\" href=https://colab.research.google.com/notebooks/data_table.ipynb>data table notebook</a>'\n",
              "          + ' to learn more about interactive tables.';\n",
              "        element.innerHTML = '';\n",
              "        dataTable['output_type'] = 'display_data';\n",
              "        await google.colab.output.renderOutput(dataTable, element);\n",
              "        const docLink = document.createElement('div');\n",
              "        docLink.innerHTML = docLinkHtml;\n",
              "        element.appendChild(docLink);\n",
              "      }\n",
              "    </script>\n",
              "  </div>\n",
              "\n",
              "\n",
              "<div id=\"df-e93274f5-1bc4-4495-879f-09db6ba792df\">\n",
              "  <button class=\"colab-df-quickchart\" onclick=\"quickchart('df-e93274f5-1bc4-4495-879f-09db6ba792df')\"\n",
              "            title=\"Suggest charts\"\n",
              "            style=\"display:none;\">\n",
              "\n",
              "<svg xmlns=\"http://www.w3.org/2000/svg\" height=\"24px\"viewBox=\"0 0 24 24\"\n",
              "     width=\"24px\">\n",
              "    <g>\n",
              "        <path d=\"M19 3H5c-1.1 0-2 .9-2 2v14c0 1.1.9 2 2 2h14c1.1 0 2-.9 2-2V5c0-1.1-.9-2-2-2zM9 17H7v-7h2v7zm4 0h-2V7h2v10zm4 0h-2v-4h2v4z\"/>\n",
              "    </g>\n",
              "</svg>\n",
              "  </button>\n",
              "\n",
              "<style>\n",
              "  .colab-df-quickchart {\n",
              "      --bg-color: #E8F0FE;\n",
              "      --fill-color: #1967D2;\n",
              "      --hover-bg-color: #E2EBFA;\n",
              "      --hover-fill-color: #174EA6;\n",
              "      --disabled-fill-color: #AAA;\n",
              "      --disabled-bg-color: #DDD;\n",
              "  }\n",
              "\n",
              "  [theme=dark] .colab-df-quickchart {\n",
              "      --bg-color: #3B4455;\n",
              "      --fill-color: #D2E3FC;\n",
              "      --hover-bg-color: #434B5C;\n",
              "      --hover-fill-color: #FFFFFF;\n",
              "      --disabled-bg-color: #3B4455;\n",
              "      --disabled-fill-color: #666;\n",
              "  }\n",
              "\n",
              "  .colab-df-quickchart {\n",
              "    background-color: var(--bg-color);\n",
              "    border: none;\n",
              "    border-radius: 50%;\n",
              "    cursor: pointer;\n",
              "    display: none;\n",
              "    fill: var(--fill-color);\n",
              "    height: 32px;\n",
              "    padding: 0;\n",
              "    width: 32px;\n",
              "  }\n",
              "\n",
              "  .colab-df-quickchart:hover {\n",
              "    background-color: var(--hover-bg-color);\n",
              "    box-shadow: 0 1px 2px rgba(60, 64, 67, 0.3), 0 1px 3px 1px rgba(60, 64, 67, 0.15);\n",
              "    fill: var(--button-hover-fill-color);\n",
              "  }\n",
              "\n",
              "  .colab-df-quickchart-complete:disabled,\n",
              "  .colab-df-quickchart-complete:disabled:hover {\n",
              "    background-color: var(--disabled-bg-color);\n",
              "    fill: var(--disabled-fill-color);\n",
              "    box-shadow: none;\n",
              "  }\n",
              "\n",
              "  .colab-df-spinner {\n",
              "    border: 2px solid var(--fill-color);\n",
              "    border-color: transparent;\n",
              "    border-bottom-color: var(--fill-color);\n",
              "    animation:\n",
              "      spin 1s steps(1) infinite;\n",
              "  }\n",
              "\n",
              "  @keyframes spin {\n",
              "    0% {\n",
              "      border-color: transparent;\n",
              "      border-bottom-color: var(--fill-color);\n",
              "      border-left-color: var(--fill-color);\n",
              "    }\n",
              "    20% {\n",
              "      border-color: transparent;\n",
              "      border-left-color: var(--fill-color);\n",
              "      border-top-color: var(--fill-color);\n",
              "    }\n",
              "    30% {\n",
              "      border-color: transparent;\n",
              "      border-left-color: var(--fill-color);\n",
              "      border-top-color: var(--fill-color);\n",
              "      border-right-color: var(--fill-color);\n",
              "    }\n",
              "    40% {\n",
              "      border-color: transparent;\n",
              "      border-right-color: var(--fill-color);\n",
              "      border-top-color: var(--fill-color);\n",
              "    }\n",
              "    60% {\n",
              "      border-color: transparent;\n",
              "      border-right-color: var(--fill-color);\n",
              "    }\n",
              "    80% {\n",
              "      border-color: transparent;\n",
              "      border-right-color: var(--fill-color);\n",
              "      border-bottom-color: var(--fill-color);\n",
              "    }\n",
              "    90% {\n",
              "      border-color: transparent;\n",
              "      border-bottom-color: var(--fill-color);\n",
              "    }\n",
              "  }\n",
              "</style>\n",
              "\n",
              "  <script>\n",
              "    async function quickchart(key) {\n",
              "      const quickchartButtonEl =\n",
              "        document.querySelector('#' + key + ' button');\n",
              "      quickchartButtonEl.disabled = true;  // To prevent multiple clicks.\n",
              "      quickchartButtonEl.classList.add('colab-df-spinner');\n",
              "      try {\n",
              "        const charts = await google.colab.kernel.invokeFunction(\n",
              "            'suggestCharts', [key], {});\n",
              "      } catch (error) {\n",
              "        console.error('Error during call to suggestCharts:', error);\n",
              "      }\n",
              "      quickchartButtonEl.classList.remove('colab-df-spinner');\n",
              "      quickchartButtonEl.classList.add('colab-df-quickchart-complete');\n",
              "    }\n",
              "    (() => {\n",
              "      let quickchartButtonEl =\n",
              "        document.querySelector('#df-e93274f5-1bc4-4495-879f-09db6ba792df button');\n",
              "      quickchartButtonEl.style.display =\n",
              "        google.colab.kernel.accessAllowed ? 'block' : 'none';\n",
              "    })();\n",
              "  </script>\n",
              "</div>\n",
              "\n",
              "  <div id=\"id_5e146e15-a429-4f7a-a230-a0e68c9b6d75\">\n",
              "    <style>\n",
              "      .colab-df-generate {\n",
              "        background-color: #E8F0FE;\n",
              "        border: none;\n",
              "        border-radius: 50%;\n",
              "        cursor: pointer;\n",
              "        display: none;\n",
              "        fill: #1967D2;\n",
              "        height: 32px;\n",
              "        padding: 0 0 0 0;\n",
              "        width: 32px;\n",
              "      }\n",
              "\n",
              "      .colab-df-generate:hover {\n",
              "        background-color: #E2EBFA;\n",
              "        box-shadow: 0px 1px 2px rgba(60, 64, 67, 0.3), 0px 1px 3px 1px rgba(60, 64, 67, 0.15);\n",
              "        fill: #174EA6;\n",
              "      }\n",
              "\n",
              "      [theme=dark] .colab-df-generate {\n",
              "        background-color: #3B4455;\n",
              "        fill: #D2E3FC;\n",
              "      }\n",
              "\n",
              "      [theme=dark] .colab-df-generate:hover {\n",
              "        background-color: #434B5C;\n",
              "        box-shadow: 0px 1px 3px 1px rgba(0, 0, 0, 0.15);\n",
              "        filter: drop-shadow(0px 1px 2px rgba(0, 0, 0, 0.3));\n",
              "        fill: #FFFFFF;\n",
              "      }\n",
              "    </style>\n",
              "    <button class=\"colab-df-generate\" onclick=\"generateWithVariable('final_results')\"\n",
              "            title=\"Generate code using this dataframe.\"\n",
              "            style=\"display:none;\">\n",
              "\n",
              "  <svg xmlns=\"http://www.w3.org/2000/svg\" height=\"24px\"viewBox=\"0 0 24 24\"\n",
              "       width=\"24px\">\n",
              "    <path d=\"M7,19H8.4L18.45,9,17,7.55,7,17.6ZM5,21V16.75L18.45,3.32a2,2,0,0,1,2.83,0l1.4,1.43a1.91,1.91,0,0,1,.58,1.4,1.91,1.91,0,0,1-.58,1.4L9.25,21ZM18.45,9,17,7.55Zm-12,3A5.31,5.31,0,0,0,4.9,8.1,5.31,5.31,0,0,0,1,6.5,5.31,5.31,0,0,0,4.9,4.9,5.31,5.31,0,0,0,6.5,1,5.31,5.31,0,0,0,8.1,4.9,5.31,5.31,0,0,0,12,6.5,5.46,5.46,0,0,0,6.5,12Z\"/>\n",
              "  </svg>\n",
              "    </button>\n",
              "    <script>\n",
              "      (() => {\n",
              "      const buttonEl =\n",
              "        document.querySelector('#id_5e146e15-a429-4f7a-a230-a0e68c9b6d75 button.colab-df-generate');\n",
              "      buttonEl.style.display =\n",
              "        google.colab.kernel.accessAllowed ? 'block' : 'none';\n",
              "\n",
              "      buttonEl.onclick = () => {\n",
              "        google.colab.notebook.generateWithVariable('final_results');\n",
              "      }\n",
              "      })();\n",
              "    </script>\n",
              "  </div>\n",
              "\n",
              "    </div>\n",
              "  </div>\n"
            ],
            "application/vnd.google.colaboratory.intrinsic+json": {
              "type": "dataframe",
              "variable_name": "final_results",
              "summary": "{\n  \"name\": \"final_results\",\n  \"rows\": 4,\n  \"fields\": [\n    {\n      \"column\": \"metrics\",\n      \"properties\": {\n        \"dtype\": \"string\",\n        \"num_unique_values\": 4,\n        \"samples\": [\n          \"mean_relevancy_score\",\n          \"mean_context_similarity_score\",\n          \"mean_correctness_score\"\n        ],\n        \"semantic_type\": \"\",\n        \"description\": \"\"\n      }\n    },\n    {\n      \"column\": \"OpenAI GPT-4\",\n      \"properties\": {\n        \"dtype\": \"number\",\n        \"std\": 1.7786510663817403,\n        \"min\": 0.8809523809523809,\n        \"max\": 4.488095238095238,\n        \"num_unique_values\": 4,\n        \"samples\": [\n          0.8809523809523809,\n          0.9612246128977601,\n          4.488095238095238\n        ],\n        \"semantic_type\": \"\",\n        \"description\": \"\"\n      }\n    },\n    {\n      \"column\": \"BGE GPT-4\",\n      \"properties\": {\n        \"dtype\": \"number\",\n        \"std\": 1.7436475005272982,\n        \"min\": 0.8333333333333334,\n        \"max\": 4.392857142857143,\n        \"num_unique_values\": 4,\n        \"samples\": [\n          0.8333333333333334,\n          0.9597582756353252,\n          4.392857142857143\n        ],\n        \"semantic_type\": \"\",\n        \"description\": \"\"\n      }\n    },\n    {\n      \"column\": \"JINA AI GPT-4\",\n      \"properties\": {\n        \"dtype\": \"number\",\n        \"std\": 0.7430472232319374,\n        \"min\": 0.35714285714285715,\n        \"max\": 2.0714285714285716,\n        \"num_unique_values\": 4,\n        \"samples\": [\n          0.35714285714285715,\n          0.8830869592011344,\n          2.0714285714285716\n        ],\n        \"semantic_type\": \"\",\n        \"description\": \"\"\n      }\n    },\n    {\n      \"column\": \"OpenAI Mistral\",\n      \"properties\": {\n        \"dtype\": \"number\",\n        \"std\": 1.6910162225025076,\n        \"min\": 0.9523809523809523,\n        \"max\": 4.345238095238095,\n        \"num_unique_values\": 4,\n        \"samples\": [\n          0.9523809523809523,\n          0.9612168556431288,\n          4.345238095238095\n        ],\n        \"semantic_type\": \"\",\n        \"description\": \"\"\n      }\n    },\n    {\n      \"column\": \"BGE Mistral\",\n      \"properties\": {\n        \"dtype\": \"number\",\n        \"std\": 1.6539128851055886,\n        \"min\": 0.8809523809523809,\n        \"max\": 4.238095238095238,\n        \"num_unique_values\": 4,\n        \"samples\": [\n          0.8809523809523809,\n          0.9597665187813641,\n          4.238095238095238\n        ],\n        \"semantic_type\": \"\",\n        \"description\": \"\"\n      }\n    },\n    {\n      \"column\": \"JINA AI Mistral\",\n      \"properties\": {\n        \"dtype\": \"number\",\n        \"std\": 1.2309458704671363,\n        \"min\": 0.5238095238095238,\n        \"max\": 3.1666666666666665,\n        \"num_unique_values\": 4,\n        \"samples\": [\n          0.5238095238095238,\n          0.8830958014890442,\n          3.1666666666666665\n        ],\n        \"semantic_type\": \"\",\n        \"description\": \"\"\n      }\n    }\n  ]\n}"
            }
          },
          "metadata": {},
          "execution_count": 19
        }
      ],
      "source": [
        "final_results = pd.concat([openai_gpt4_engine_metrics, bge_gpt4_engine_metrics, jin_gpt4_engine_metrics, openai_mistral_engine_metrics, bge_mistral_engine_metrics, jin_mistral_engine_metrics], axis=1)\n",
        "final_results.columns = ['OpenAI GPT-4', 'BGE GPT-4', 'JINA AI GPT-4', 'OpenAI Mistral', 'BGE Mistral', 'JINA AI Mistral']\n",
        "final_results"
      ]
    },
    {
      "cell_type": "markdown",
      "source": [
        "**Results show great performance with OpenAI Embeddings, and Mistral, GPT-4 as LLMs.**"
      ],
      "metadata": {
        "id": "7WVqWNoKklBx"
      }
    }
  ],
  "metadata": {
    "accelerator": "GPU",
    "colab": {
      "gpuType": "T4",
      "provenance": [],
      "authorship_tag": "ABX9TyNt9IYnOEtLnFgpYwOcOB4a"
    },
    "kernelspec": {
      "display_name": "Python 3",
      "name": "python3"
    },
    "language_info": {
      "name": "python"
    },
    "widgets": {
      "application/vnd.jupyter.widget-state+json": {
        "238a7a34464e43298a546ba6b2449f2f": {
          "model_module": "@jupyter-widgets/controls",
          "model_name": "HBoxModel",
          "model_module_version": "1.5.0",
          "state": {
            "_dom_classes": [],
            "_model_module": "@jupyter-widgets/controls",
            "_model_module_version": "1.5.0",
            "_model_name": "HBoxModel",
            "_view_count": null,
            "_view_module": "@jupyter-widgets/controls",
            "_view_module_version": "1.5.0",
            "_view_name": "HBoxView",
            "box_style": "",
            "children": [
              "IPY_MODEL_fe41aacc481649f7aa3da4e07c7fde33",
              "IPY_MODEL_2ff657b39fbd4346a02d6c68a8e5544f",
              "IPY_MODEL_978bdbdca3b04ed9b1c58f3d18f2e108"
            ],
            "layout": "IPY_MODEL_ebab60624f6042c89bfef25f7cf7a0fd"
          }
        },
        "fe41aacc481649f7aa3da4e07c7fde33": {
          "model_module": "@jupyter-widgets/controls",
          "model_name": "HTMLModel",
          "model_module_version": "1.5.0",
          "state": {
            "_dom_classes": [],
            "_model_module": "@jupyter-widgets/controls",
            "_model_module_version": "1.5.0",
            "_model_name": "HTMLModel",
            "_view_count": null,
            "_view_module": "@jupyter-widgets/controls",
            "_view_module_version": "1.5.0",
            "_view_name": "HTMLView",
            "description": "",
            "description_tooltip": null,
            "layout": "IPY_MODEL_5e9fe785502f4356a6392ad581768300",
            "placeholder": "​",
            "style": "IPY_MODEL_605f38645302438caa28334145960cc8",
            "value": "Loading checkpoint shards: 100%"
          }
        },
        "2ff657b39fbd4346a02d6c68a8e5544f": {
          "model_module": "@jupyter-widgets/controls",
          "model_name": "FloatProgressModel",
          "model_module_version": "1.5.0",
          "state": {
            "_dom_classes": [],
            "_model_module": "@jupyter-widgets/controls",
            "_model_module_version": "1.5.0",
            "_model_name": "FloatProgressModel",
            "_view_count": null,
            "_view_module": "@jupyter-widgets/controls",
            "_view_module_version": "1.5.0",
            "_view_name": "ProgressView",
            "bar_style": "success",
            "description": "",
            "description_tooltip": null,
            "layout": "IPY_MODEL_b93c0b42fcbb4c578db1802585319018",
            "max": 2,
            "min": 0,
            "orientation": "horizontal",
            "style": "IPY_MODEL_277d5fc60e3d4803b02e7540baf3eda0",
            "value": 2
          }
        },
        "978bdbdca3b04ed9b1c58f3d18f2e108": {
          "model_module": "@jupyter-widgets/controls",
          "model_name": "HTMLModel",
          "model_module_version": "1.5.0",
          "state": {
            "_dom_classes": [],
            "_model_module": "@jupyter-widgets/controls",
            "_model_module_version": "1.5.0",
            "_model_name": "HTMLModel",
            "_view_count": null,
            "_view_module": "@jupyter-widgets/controls",
            "_view_module_version": "1.5.0",
            "_view_name": "HTMLView",
            "description": "",
            "description_tooltip": null,
            "layout": "IPY_MODEL_463c680412f5490fa1ae8818ef1986b1",
            "placeholder": "​",
            "style": "IPY_MODEL_b4bdd03e17d144acaf2e0970cad65d24",
            "value": " 2/2 [01:05&lt;00:00, 30.32s/it]"
          }
        },
        "ebab60624f6042c89bfef25f7cf7a0fd": {
          "model_module": "@jupyter-widgets/base",
          "model_name": "LayoutModel",
          "model_module_version": "1.2.0",
          "state": {
            "_model_module": "@jupyter-widgets/base",
            "_model_module_version": "1.2.0",
            "_model_name": "LayoutModel",
            "_view_count": null,
            "_view_module": "@jupyter-widgets/base",
            "_view_module_version": "1.2.0",
            "_view_name": "LayoutView",
            "align_content": null,
            "align_items": null,
            "align_self": null,
            "border": null,
            "bottom": null,
            "display": null,
            "flex": null,
            "flex_flow": null,
            "grid_area": null,
            "grid_auto_columns": null,
            "grid_auto_flow": null,
            "grid_auto_rows": null,
            "grid_column": null,
            "grid_gap": null,
            "grid_row": null,
            "grid_template_areas": null,
            "grid_template_columns": null,
            "grid_template_rows": null,
            "height": null,
            "justify_content": null,
            "justify_items": null,
            "left": null,
            "margin": null,
            "max_height": null,
            "max_width": null,
            "min_height": null,
            "min_width": null,
            "object_fit": null,
            "object_position": null,
            "order": null,
            "overflow": null,
            "overflow_x": null,
            "overflow_y": null,
            "padding": null,
            "right": null,
            "top": null,
            "visibility": null,
            "width": null
          }
        },
        "5e9fe785502f4356a6392ad581768300": {
          "model_module": "@jupyter-widgets/base",
          "model_name": "LayoutModel",
          "model_module_version": "1.2.0",
          "state": {
            "_model_module": "@jupyter-widgets/base",
            "_model_module_version": "1.2.0",
            "_model_name": "LayoutModel",
            "_view_count": null,
            "_view_module": "@jupyter-widgets/base",
            "_view_module_version": "1.2.0",
            "_view_name": "LayoutView",
            "align_content": null,
            "align_items": null,
            "align_self": null,
            "border": null,
            "bottom": null,
            "display": null,
            "flex": null,
            "flex_flow": null,
            "grid_area": null,
            "grid_auto_columns": null,
            "grid_auto_flow": null,
            "grid_auto_rows": null,
            "grid_column": null,
            "grid_gap": null,
            "grid_row": null,
            "grid_template_areas": null,
            "grid_template_columns": null,
            "grid_template_rows": null,
            "height": null,
            "justify_content": null,
            "justify_items": null,
            "left": null,
            "margin": null,
            "max_height": null,
            "max_width": null,
            "min_height": null,
            "min_width": null,
            "object_fit": null,
            "object_position": null,
            "order": null,
            "overflow": null,
            "overflow_x": null,
            "overflow_y": null,
            "padding": null,
            "right": null,
            "top": null,
            "visibility": null,
            "width": null
          }
        },
        "605f38645302438caa28334145960cc8": {
          "model_module": "@jupyter-widgets/controls",
          "model_name": "DescriptionStyleModel",
          "model_module_version": "1.5.0",
          "state": {
            "_model_module": "@jupyter-widgets/controls",
            "_model_module_version": "1.5.0",
            "_model_name": "DescriptionStyleModel",
            "_view_count": null,
            "_view_module": "@jupyter-widgets/base",
            "_view_module_version": "1.2.0",
            "_view_name": "StyleView",
            "description_width": ""
          }
        },
        "b93c0b42fcbb4c578db1802585319018": {
          "model_module": "@jupyter-widgets/base",
          "model_name": "LayoutModel",
          "model_module_version": "1.2.0",
          "state": {
            "_model_module": "@jupyter-widgets/base",
            "_model_module_version": "1.2.0",
            "_model_name": "LayoutModel",
            "_view_count": null,
            "_view_module": "@jupyter-widgets/base",
            "_view_module_version": "1.2.0",
            "_view_name": "LayoutView",
            "align_content": null,
            "align_items": null,
            "align_self": null,
            "border": null,
            "bottom": null,
            "display": null,
            "flex": null,
            "flex_flow": null,
            "grid_area": null,
            "grid_auto_columns": null,
            "grid_auto_flow": null,
            "grid_auto_rows": null,
            "grid_column": null,
            "grid_gap": null,
            "grid_row": null,
            "grid_template_areas": null,
            "grid_template_columns": null,
            "grid_template_rows": null,
            "height": null,
            "justify_content": null,
            "justify_items": null,
            "left": null,
            "margin": null,
            "max_height": null,
            "max_width": null,
            "min_height": null,
            "min_width": null,
            "object_fit": null,
            "object_position": null,
            "order": null,
            "overflow": null,
            "overflow_x": null,
            "overflow_y": null,
            "padding": null,
            "right": null,
            "top": null,
            "visibility": null,
            "width": null
          }
        },
        "277d5fc60e3d4803b02e7540baf3eda0": {
          "model_module": "@jupyter-widgets/controls",
          "model_name": "ProgressStyleModel",
          "model_module_version": "1.5.0",
          "state": {
            "_model_module": "@jupyter-widgets/controls",
            "_model_module_version": "1.5.0",
            "_model_name": "ProgressStyleModel",
            "_view_count": null,
            "_view_module": "@jupyter-widgets/base",
            "_view_module_version": "1.2.0",
            "_view_name": "StyleView",
            "bar_color": null,
            "description_width": ""
          }
        },
        "463c680412f5490fa1ae8818ef1986b1": {
          "model_module": "@jupyter-widgets/base",
          "model_name": "LayoutModel",
          "model_module_version": "1.2.0",
          "state": {
            "_model_module": "@jupyter-widgets/base",
            "_model_module_version": "1.2.0",
            "_model_name": "LayoutModel",
            "_view_count": null,
            "_view_module": "@jupyter-widgets/base",
            "_view_module_version": "1.2.0",
            "_view_name": "LayoutView",
            "align_content": null,
            "align_items": null,
            "align_self": null,
            "border": null,
            "bottom": null,
            "display": null,
            "flex": null,
            "flex_flow": null,
            "grid_area": null,
            "grid_auto_columns": null,
            "grid_auto_flow": null,
            "grid_auto_rows": null,
            "grid_column": null,
            "grid_gap": null,
            "grid_row": null,
            "grid_template_areas": null,
            "grid_template_columns": null,
            "grid_template_rows": null,
            "height": null,
            "justify_content": null,
            "justify_items": null,
            "left": null,
            "margin": null,
            "max_height": null,
            "max_width": null,
            "min_height": null,
            "min_width": null,
            "object_fit": null,
            "object_position": null,
            "order": null,
            "overflow": null,
            "overflow_x": null,
            "overflow_y": null,
            "padding": null,
            "right": null,
            "top": null,
            "visibility": null,
            "width": null
          }
        },
        "b4bdd03e17d144acaf2e0970cad65d24": {
          "model_module": "@jupyter-widgets/controls",
          "model_name": "DescriptionStyleModel",
          "model_module_version": "1.5.0",
          "state": {
            "_model_module": "@jupyter-widgets/controls",
            "_model_module_version": "1.5.0",
            "_model_name": "DescriptionStyleModel",
            "_view_count": null,
            "_view_module": "@jupyter-widgets/base",
            "_view_module_version": "1.2.0",
            "_view_name": "StyleView",
            "description_width": ""
          }
        },
        "f080ddb9359b4c809084e703ff43e57c": {
          "model_module": "@jupyter-widgets/controls",
          "model_name": "HBoxModel",
          "model_module_version": "1.5.0",
          "state": {
            "_dom_classes": [],
            "_model_module": "@jupyter-widgets/controls",
            "_model_module_version": "1.5.0",
            "_model_name": "HBoxModel",
            "_view_count": null,
            "_view_module": "@jupyter-widgets/controls",
            "_view_module_version": "1.5.0",
            "_view_name": "HBoxView",
            "box_style": "",
            "children": [
              "IPY_MODEL_19576c4a6d9e4f4b891a17bc31d6561b",
              "IPY_MODEL_ba0b4a747d854d63be5a2a8e763bc397",
              "IPY_MODEL_01022b81a6a64483873d10c5a2c2577f"
            ],
            "layout": "IPY_MODEL_9c4b4a5ba7d04f369bcfaa9e27ab4e7a"
          }
        },
        "19576c4a6d9e4f4b891a17bc31d6561b": {
          "model_module": "@jupyter-widgets/controls",
          "model_name": "HTMLModel",
          "model_module_version": "1.5.0",
          "state": {
            "_dom_classes": [],
            "_model_module": "@jupyter-widgets/controls",
            "_model_module_version": "1.5.0",
            "_model_name": "HTMLModel",
            "_view_count": null,
            "_view_module": "@jupyter-widgets/controls",
            "_view_module_version": "1.5.0",
            "_view_name": "HTMLView",
            "description": "",
            "description_tooltip": null,
            "layout": "IPY_MODEL_e574de6060284145af354583cb1cb0ef",
            "placeholder": "​",
            "style": "IPY_MODEL_5b705bc6c3e34667b948e5aed52ec626",
            "value": "Parsing nodes: 100%"
          }
        },
        "ba0b4a747d854d63be5a2a8e763bc397": {
          "model_module": "@jupyter-widgets/controls",
          "model_name": "FloatProgressModel",
          "model_module_version": "1.5.0",
          "state": {
            "_dom_classes": [],
            "_model_module": "@jupyter-widgets/controls",
            "_model_module_version": "1.5.0",
            "_model_name": "FloatProgressModel",
            "_view_count": null,
            "_view_module": "@jupyter-widgets/controls",
            "_view_module_version": "1.5.0",
            "_view_name": "ProgressView",
            "bar_style": "success",
            "description": "",
            "description_tooltip": null,
            "layout": "IPY_MODEL_165e67ae110a4d59b223af55e08d8c15",
            "max": 21,
            "min": 0,
            "orientation": "horizontal",
            "style": "IPY_MODEL_7fcce76faa144ab6aaf504edce62275b",
            "value": 21
          }
        },
        "01022b81a6a64483873d10c5a2c2577f": {
          "model_module": "@jupyter-widgets/controls",
          "model_name": "HTMLModel",
          "model_module_version": "1.5.0",
          "state": {
            "_dom_classes": [],
            "_model_module": "@jupyter-widgets/controls",
            "_model_module_version": "1.5.0",
            "_model_name": "HTMLModel",
            "_view_count": null,
            "_view_module": "@jupyter-widgets/controls",
            "_view_module_version": "1.5.0",
            "_view_name": "HTMLView",
            "description": "",
            "description_tooltip": null,
            "layout": "IPY_MODEL_7204e845c55e46c1a57c9b7bcf35e969",
            "placeholder": "​",
            "style": "IPY_MODEL_a55c0e701ccd43d1a6445ef61cecd63d",
            "value": " 21/21 [00:00&lt;00:00, 507.58it/s]"
          }
        },
        "9c4b4a5ba7d04f369bcfaa9e27ab4e7a": {
          "model_module": "@jupyter-widgets/base",
          "model_name": "LayoutModel",
          "model_module_version": "1.2.0",
          "state": {
            "_model_module": "@jupyter-widgets/base",
            "_model_module_version": "1.2.0",
            "_model_name": "LayoutModel",
            "_view_count": null,
            "_view_module": "@jupyter-widgets/base",
            "_view_module_version": "1.2.0",
            "_view_name": "LayoutView",
            "align_content": null,
            "align_items": null,
            "align_self": null,
            "border": null,
            "bottom": null,
            "display": null,
            "flex": null,
            "flex_flow": null,
            "grid_area": null,
            "grid_auto_columns": null,
            "grid_auto_flow": null,
            "grid_auto_rows": null,
            "grid_column": null,
            "grid_gap": null,
            "grid_row": null,
            "grid_template_areas": null,
            "grid_template_columns": null,
            "grid_template_rows": null,
            "height": null,
            "justify_content": null,
            "justify_items": null,
            "left": null,
            "margin": null,
            "max_height": null,
            "max_width": null,
            "min_height": null,
            "min_width": null,
            "object_fit": null,
            "object_position": null,
            "order": null,
            "overflow": null,
            "overflow_x": null,
            "overflow_y": null,
            "padding": null,
            "right": null,
            "top": null,
            "visibility": null,
            "width": null
          }
        },
        "e574de6060284145af354583cb1cb0ef": {
          "model_module": "@jupyter-widgets/base",
          "model_name": "LayoutModel",
          "model_module_version": "1.2.0",
          "state": {
            "_model_module": "@jupyter-widgets/base",
            "_model_module_version": "1.2.0",
            "_model_name": "LayoutModel",
            "_view_count": null,
            "_view_module": "@jupyter-widgets/base",
            "_view_module_version": "1.2.0",
            "_view_name": "LayoutView",
            "align_content": null,
            "align_items": null,
            "align_self": null,
            "border": null,
            "bottom": null,
            "display": null,
            "flex": null,
            "flex_flow": null,
            "grid_area": null,
            "grid_auto_columns": null,
            "grid_auto_flow": null,
            "grid_auto_rows": null,
            "grid_column": null,
            "grid_gap": null,
            "grid_row": null,
            "grid_template_areas": null,
            "grid_template_columns": null,
            "grid_template_rows": null,
            "height": null,
            "justify_content": null,
            "justify_items": null,
            "left": null,
            "margin": null,
            "max_height": null,
            "max_width": null,
            "min_height": null,
            "min_width": null,
            "object_fit": null,
            "object_position": null,
            "order": null,
            "overflow": null,
            "overflow_x": null,
            "overflow_y": null,
            "padding": null,
            "right": null,
            "top": null,
            "visibility": null,
            "width": null
          }
        },
        "5b705bc6c3e34667b948e5aed52ec626": {
          "model_module": "@jupyter-widgets/controls",
          "model_name": "DescriptionStyleModel",
          "model_module_version": "1.5.0",
          "state": {
            "_model_module": "@jupyter-widgets/controls",
            "_model_module_version": "1.5.0",
            "_model_name": "DescriptionStyleModel",
            "_view_count": null,
            "_view_module": "@jupyter-widgets/base",
            "_view_module_version": "1.2.0",
            "_view_name": "StyleView",
            "description_width": ""
          }
        },
        "165e67ae110a4d59b223af55e08d8c15": {
          "model_module": "@jupyter-widgets/base",
          "model_name": "LayoutModel",
          "model_module_version": "1.2.0",
          "state": {
            "_model_module": "@jupyter-widgets/base",
            "_model_module_version": "1.2.0",
            "_model_name": "LayoutModel",
            "_view_count": null,
            "_view_module": "@jupyter-widgets/base",
            "_view_module_version": "1.2.0",
            "_view_name": "LayoutView",
            "align_content": null,
            "align_items": null,
            "align_self": null,
            "border": null,
            "bottom": null,
            "display": null,
            "flex": null,
            "flex_flow": null,
            "grid_area": null,
            "grid_auto_columns": null,
            "grid_auto_flow": null,
            "grid_auto_rows": null,
            "grid_column": null,
            "grid_gap": null,
            "grid_row": null,
            "grid_template_areas": null,
            "grid_template_columns": null,
            "grid_template_rows": null,
            "height": null,
            "justify_content": null,
            "justify_items": null,
            "left": null,
            "margin": null,
            "max_height": null,
            "max_width": null,
            "min_height": null,
            "min_width": null,
            "object_fit": null,
            "object_position": null,
            "order": null,
            "overflow": null,
            "overflow_x": null,
            "overflow_y": null,
            "padding": null,
            "right": null,
            "top": null,
            "visibility": null,
            "width": null
          }
        },
        "7fcce76faa144ab6aaf504edce62275b": {
          "model_module": "@jupyter-widgets/controls",
          "model_name": "ProgressStyleModel",
          "model_module_version": "1.5.0",
          "state": {
            "_model_module": "@jupyter-widgets/controls",
            "_model_module_version": "1.5.0",
            "_model_name": "ProgressStyleModel",
            "_view_count": null,
            "_view_module": "@jupyter-widgets/base",
            "_view_module_version": "1.2.0",
            "_view_name": "StyleView",
            "bar_color": null,
            "description_width": ""
          }
        },
        "7204e845c55e46c1a57c9b7bcf35e969": {
          "model_module": "@jupyter-widgets/base",
          "model_name": "LayoutModel",
          "model_module_version": "1.2.0",
          "state": {
            "_model_module": "@jupyter-widgets/base",
            "_model_module_version": "1.2.0",
            "_model_name": "LayoutModel",
            "_view_count": null,
            "_view_module": "@jupyter-widgets/base",
            "_view_module_version": "1.2.0",
            "_view_name": "LayoutView",
            "align_content": null,
            "align_items": null,
            "align_self": null,
            "border": null,
            "bottom": null,
            "display": null,
            "flex": null,
            "flex_flow": null,
            "grid_area": null,
            "grid_auto_columns": null,
            "grid_auto_flow": null,
            "grid_auto_rows": null,
            "grid_column": null,
            "grid_gap": null,
            "grid_row": null,
            "grid_template_areas": null,
            "grid_template_columns": null,
            "grid_template_rows": null,
            "height": null,
            "justify_content": null,
            "justify_items": null,
            "left": null,
            "margin": null,
            "max_height": null,
            "max_width": null,
            "min_height": null,
            "min_width": null,
            "object_fit": null,
            "object_position": null,
            "order": null,
            "overflow": null,
            "overflow_x": null,
            "overflow_y": null,
            "padding": null,
            "right": null,
            "top": null,
            "visibility": null,
            "width": null
          }
        },
        "a55c0e701ccd43d1a6445ef61cecd63d": {
          "model_module": "@jupyter-widgets/controls",
          "model_name": "DescriptionStyleModel",
          "model_module_version": "1.5.0",
          "state": {
            "_model_module": "@jupyter-widgets/controls",
            "_model_module_version": "1.5.0",
            "_model_name": "DescriptionStyleModel",
            "_view_count": null,
            "_view_module": "@jupyter-widgets/base",
            "_view_module_version": "1.2.0",
            "_view_name": "StyleView",
            "description_width": ""
          }
        }
      }
    }
  },
  "nbformat": 4,
  "nbformat_minor": 0
}