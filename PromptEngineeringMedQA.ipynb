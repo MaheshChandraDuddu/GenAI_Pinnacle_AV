{
  "cells": [
    {
      "cell_type": "markdown",
      "metadata": {
        "id": "kqZq8WWqoVVT"
      },
      "source": [
        "# Setting up the System"
      ]
    },
    {
      "cell_type": "markdown",
      "metadata": {
        "id": "5KLfXRcu0PyM"
      },
      "source": [
        "## To run in local system"
      ]
    },
    {
      "cell_type": "code",
      "source": [
        "!pip install openai\n",
        "!pip install python-dotenv"
      ],
      "metadata": {
        "id": "p1HhIq8n4m_Z",
        "outputId": "fa484a48-8115-48df-9c5f-97443616530c",
        "colab": {
          "base_uri": "https://localhost:8080/"
        }
      },
      "execution_count": 5,
      "outputs": [
        {
          "output_type": "stream",
          "name": "stdout",
          "text": [
            "Requirement already satisfied: openai in /usr/local/lib/python3.10/dist-packages (1.37.0)\n",
            "Requirement already satisfied: anyio<5,>=3.5.0 in /usr/local/lib/python3.10/dist-packages (from openai) (3.7.1)\n",
            "Requirement already satisfied: distro<2,>=1.7.0 in /usr/lib/python3/dist-packages (from openai) (1.7.0)\n",
            "Requirement already satisfied: httpx<1,>=0.23.0 in /usr/local/lib/python3.10/dist-packages (from openai) (0.27.0)\n",
            "Requirement already satisfied: pydantic<3,>=1.9.0 in /usr/local/lib/python3.10/dist-packages (from openai) (2.8.2)\n",
            "Requirement already satisfied: sniffio in /usr/local/lib/python3.10/dist-packages (from openai) (1.3.1)\n",
            "Requirement already satisfied: tqdm>4 in /usr/local/lib/python3.10/dist-packages (from openai) (4.66.4)\n",
            "Requirement already satisfied: typing-extensions<5,>=4.7 in /usr/local/lib/python3.10/dist-packages (from openai) (4.12.2)\n",
            "Requirement already satisfied: idna>=2.8 in /usr/local/lib/python3.10/dist-packages (from anyio<5,>=3.5.0->openai) (3.7)\n",
            "Requirement already satisfied: exceptiongroup in /usr/local/lib/python3.10/dist-packages (from anyio<5,>=3.5.0->openai) (1.2.2)\n",
            "Requirement already satisfied: certifi in /usr/local/lib/python3.10/dist-packages (from httpx<1,>=0.23.0->openai) (2024.7.4)\n",
            "Requirement already satisfied: httpcore==1.* in /usr/local/lib/python3.10/dist-packages (from httpx<1,>=0.23.0->openai) (1.0.5)\n",
            "Requirement already satisfied: h11<0.15,>=0.13 in /usr/local/lib/python3.10/dist-packages (from httpcore==1.*->httpx<1,>=0.23.0->openai) (0.14.0)\n",
            "Requirement already satisfied: annotated-types>=0.4.0 in /usr/local/lib/python3.10/dist-packages (from pydantic<3,>=1.9.0->openai) (0.7.0)\n",
            "Requirement already satisfied: pydantic-core==2.20.1 in /usr/local/lib/python3.10/dist-packages (from pydantic<3,>=1.9.0->openai) (2.20.1)\n",
            "Collecting python-dotenv\n",
            "  Downloading python_dotenv-1.0.1-py3-none-any.whl (19 kB)\n",
            "Installing collected packages: python-dotenv\n",
            "Successfully installed python-dotenv-1.0.1\n"
          ]
        }
      ]
    },
    {
      "cell_type": "code",
      "execution_count": 12,
      "metadata": {
        "id": "ZnjeuISi0PyN"
      },
      "outputs": [],
      "source": [
        "import openai\n",
        "from google.colab import userdata"
      ]
    },
    {
      "cell_type": "code",
      "execution_count": 13,
      "metadata": {
        "id": "rHzTqHVa0PyS"
      },
      "outputs": [],
      "source": [
        "OPENAI_API_KEY = userdata.get('OPENAI_API_KEY')"
      ]
    },
    {
      "cell_type": "markdown",
      "metadata": {
        "id": "WSdGrfYC0PyS"
      },
      "source": [
        "## To run in Google Colab"
      ]
    },
    {
      "cell_type": "code",
      "execution_count": 28,
      "metadata": {
        "id": "ZmJSTmVz0PyS"
      },
      "outputs": [],
      "source": [
        "from google.colab import userdata\n",
        "OPENAI_API_KEY = userdata.get('OPENAI_API_KEY_1')"
      ]
    },
    {
      "cell_type": "code",
      "execution_count": 29,
      "metadata": {
        "id": "silTNagQ0PyT"
      },
      "outputs": [],
      "source": [
        "import openai\n",
        "openai.api_key = OPENAI_API_KEY"
      ]
    },
    {
      "cell_type": "markdown",
      "metadata": {
        "id": "abw1I_YHGo8z"
      },
      "source": [
        "# MedMCQA Casestudy\n",
        "\n",
        "\n",
        "MedMCQA is a large-scale, Multiple-Choice Question Answering (MCQA) dataset designed to address real-world medical entrance exam questions.\n",
        "\n",
        "MedMCQA has more than 194k high-quality AIIMS & NEET PG entrance exam MCQs covering 2.4k healthcare topics and 21 medical subjects are collected with an average token length of 12.77 and high topical diversity.\n",
        "\n",
        "Link to the dataset:https://huggingface.co/datasets/medmcqa?row=12"
      ]
    },
    {
      "cell_type": "code",
      "execution_count": 30,
      "metadata": {
        "id": "I0hdZwlgvpp9"
      },
      "outputs": [],
      "source": [
        "def get_response(messages,model=\"gpt-3.5-turbo\"):\n",
        "\n",
        "    response = openai.chat.completions.create(\n",
        "        model=model,\n",
        "        messages=messages)\n",
        "\n",
        "    return response.choices[0].message.content"
      ]
    },
    {
      "cell_type": "code",
      "execution_count": 31,
      "metadata": {
        "id": "JMML97Ss0PZN"
      },
      "outputs": [],
      "source": [
        "first_question= '''Following endaerectomy on the right common carotid, a patient is found to be blind in the right eye.\n",
        "It is appears that a small thrombus embolized during surgery and lodged in the aery supplying the optic nerve.\n",
        "Which aery would be blocked?\n",
        "(A)Central aery of the retina\n",
        "(B)Infraorbital aery\n",
        "(C)Lacrimal aery\n",
        "(D)Nasociliary aretry\n",
        "'''"
      ]
    },
    {
      "cell_type": "code",
      "execution_count": 32,
      "metadata": {
        "id": "-mBhiiId2EXk"
      },
      "outputs": [],
      "source": [
        "first_question_answer= 'A'"
      ]
    },
    {
      "cell_type": "code",
      "execution_count": 33,
      "metadata": {
        "id": "gY6gc5-_2EiC"
      },
      "outputs": [],
      "source": [
        "second_question='''All of the following are surgical options for morbid obesity except -\n",
        "(A)Adjustable gastric banding\n",
        "(B)Biliopancreatic diversion\n",
        "(C)Duodenal Switch\n",
        "(D)Roux en Y Duodenal By pass\n",
        "'''"
      ]
    },
    {
      "cell_type": "code",
      "execution_count": 34,
      "metadata": {
        "id": "PASMhR1M2VxA"
      },
      "outputs": [],
      "source": [
        "second_question_answer='D'"
      ]
    },
    {
      "cell_type": "code",
      "execution_count": 35,
      "metadata": {
        "id": "Q9hDAKRv2XtP"
      },
      "outputs": [],
      "source": [
        "third_question='''Growth hormone has its effect on growth through?\n",
        "(A)Directly\n",
        "(B)IG1-1\n",
        "(C)Throxine\n",
        "(D)Intranuclear receptors\n",
        "'''"
      ]
    },
    {
      "cell_type": "code",
      "execution_count": 36,
      "metadata": {
        "id": "Kf45v0m72XvS"
      },
      "outputs": [],
      "source": [
        "third_question_answer='B'"
      ]
    },
    {
      "cell_type": "code",
      "execution_count": 37,
      "metadata": {
        "id": "iAAFQQXk5gcJ"
      },
      "outputs": [],
      "source": [
        "fourth_question='''The pharmakokinetic change occurring in geriatric patient is due to\n",
        "(A)Gastric absorption\n",
        "(B)Liver metabolism\n",
        "(C)Renal clearance\n",
        "(D)Hypersensitivity\n",
        "'''"
      ]
    },
    {
      "cell_type": "markdown",
      "metadata": {
        "id": "raZAaqGq4T4B"
      },
      "source": [
        "Define the System role"
      ]
    },
    {
      "cell_type": "code",
      "execution_count": 38,
      "metadata": {
        "id": "9Yoj9B4xyRy_"
      },
      "outputs": [],
      "source": [
        "system_role = \"You are a helpful assistant that answers multiple choice questions about medical knowledge.\""
      ]
    },
    {
      "cell_type": "markdown",
      "metadata": {
        "id": "wY0IOOgz5ac9"
      },
      "source": [
        "# Few Shot Prompting"
      ]
    },
    {
      "cell_type": "code",
      "execution_count": 39,
      "metadata": {
        "id": "AjRCSa5r4x3T"
      },
      "outputs": [],
      "source": [
        "user_prompt = f'''Question:{first_question}\n",
        "Answer:{first_question_answer}\n",
        "\n",
        "Question:{second_question}\n",
        "Answer:{second_question_answer}\n",
        "\n",
        "Question:{third_question}\n",
        "Answer:{third_question_answer}\n",
        "\n",
        "Question:{fourth_question}\n",
        "Answer:\n",
        "'''"
      ]
    },
    {
      "cell_type": "code",
      "execution_count": 40,
      "metadata": {
        "id": "nZmQrjcX0PbI"
      },
      "outputs": [],
      "source": [
        "messages=[{'role':'system','content':system_role},\n",
        "          {'role':'user','content':user_prompt}\n",
        "          ]"
      ]
    },
    {
      "cell_type": "code",
      "execution_count": 41,
      "metadata": {
        "colab": {
          "base_uri": "https://localhost:8080/"
        },
        "id": "zdxnLEy10Pd1",
        "outputId": "bbf7dd93-50e4-4beb-c27d-32dabd76e427"
      },
      "outputs": [
        {
          "output_type": "stream",
          "name": "stdout",
          "text": [
            "(B) Liver metabolism\n"
          ]
        }
      ],
      "source": [
        "print(get_response(messages))"
      ]
    },
    {
      "cell_type": "markdown",
      "metadata": {
        "id": "wOcG6OcY6KHF"
      },
      "source": [
        "# One Shot Prompting"
      ]
    },
    {
      "cell_type": "code",
      "execution_count": null,
      "metadata": {
        "id": "grKLmELK0fmv"
      },
      "outputs": [],
      "source": [
        "user_prompt = f'''Question:{first_question}\n",
        "Answer:{first_question_answer}\n",
        "\n",
        "Question:{fourth_question}\n",
        "Answer:\n",
        "'''"
      ]
    },
    {
      "cell_type": "code",
      "execution_count": null,
      "metadata": {
        "id": "O7FolQ10yk03"
      },
      "outputs": [],
      "source": [
        "messages=[{'role':'system','content':system_role},\n",
        "          {'role':'user','content':user_prompt}\n",
        "          ]"
      ]
    },
    {
      "cell_type": "code",
      "execution_count": null,
      "metadata": {
        "colab": {
          "base_uri": "https://localhost:8080/"
        },
        "id": "IIxqDYG-vwOY",
        "outputId": "744ebc46-9f56-4555-d099-c5d6e4639cbf"
      },
      "outputs": [
        {
          "name": "stdout",
          "output_type": "stream",
          "text": [
            "C) Renal clearance\n"
          ]
        }
      ],
      "source": [
        "print(get_response(messages))"
      ]
    },
    {
      "cell_type": "markdown",
      "metadata": {
        "id": "A6R5vhmU6ehT"
      },
      "source": [
        "# Zero Shot Prompting"
      ]
    },
    {
      "cell_type": "code",
      "execution_count": null,
      "metadata": {
        "id": "tbvnAxhSvwQt"
      },
      "outputs": [],
      "source": [
        "user_prompt = f'''Question:{fourth_question}\n",
        "Answer:\n",
        "'''"
      ]
    },
    {
      "cell_type": "code",
      "execution_count": null,
      "metadata": {
        "id": "xIOVmu8gvput"
      },
      "outputs": [],
      "source": [
        "messages=[{'role':'system','content':system_role},\n",
        "          {'role':'user','content':user_prompt}\n",
        "          ]"
      ]
    },
    {
      "cell_type": "code",
      "execution_count": null,
      "metadata": {
        "colab": {
          "base_uri": "https://localhost:8080/"
        },
        "id": "O4L8wsOfvpw0",
        "outputId": "fd9ed089-ebe5-451f-fc1a-9f91d3e99036"
      },
      "outputs": [
        {
          "name": "stdout",
          "output_type": "stream",
          "text": [
            "(C) Renal clearance\n",
            "\n",
            "Pharmacokinetic changes in geriatric patients are often due to decreased renal function. This can result in slower clearance of drugs, leading to increased accumulation and potentially higher risk of drug toxicity. Gastric absorption and liver metabolism can also be affected in geriatric patients, but renal clearance is considered one of the most significant factors contributing to pharmacokinetic changes in this population. Hypersensitivity, on the other hand, is not directly related to pharmacokinetic changes.\n"
          ]
        }
      ],
      "source": [
        "print(get_response(messages))"
      ]
    },
    {
      "cell_type": "markdown",
      "metadata": {
        "id": "bOyyobh4Ft8w"
      },
      "source": [
        "![image.jpg](data:image/jpeg;base64,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)"
      ]
    }
  ],
  "metadata": {
    "colab": {
      "provenance": []
    },
    "kernelspec": {
      "display_name": "Python 3 (ipykernel)",
      "language": "python",
      "name": "python3"
    },
    "language_info": {
      "codemirror_mode": {
        "name": "ipython",
        "version": 3
      },
      "file_extension": ".py",
      "mimetype": "text/x-python",
      "name": "python",
      "nbconvert_exporter": "python",
      "pygments_lexer": "ipython3",
      "version": "3.11.7"
    }
  },
  "nbformat": 4,
  "nbformat_minor": 0
}